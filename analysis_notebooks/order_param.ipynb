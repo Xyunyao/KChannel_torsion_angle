{
 "cells": [
  {
   "cell_type": "code",
   "execution_count": 1,
   "metadata": {},
   "outputs": [],
   "source": [
    "%matplotlib inline\n",
    "from schrodinger import structure\n",
    "from schrodinger.structutils import analyze\n",
    "from schrodinger.structutils import rmsd"
   ]
  },
  {
   "cell_type": "code",
   "execution_count": 2,
   "metadata": {},
   "outputs": [
    {
     "data": {
      "text/plain": [
       "['/Users/chengminghe/Dropbox/research/ubq/md/schrodinger.ve/lib/python3.8/site-packages',\n",
       " '/opt/schrodinger/suites2023-1/internal/lib/python3.8/site-packages']"
      ]
     },
     "execution_count": 2,
     "metadata": {},
     "output_type": "execute_result"
    }
   ],
   "source": [
    "import numpy as np\n",
    "import pickle as pkl\n",
    "import matplotlib\n",
    "import matplotlib.pyplot as plt\n",
    "import site; site.getsitepackages()"
   ]
  },
  {
   "cell_type": "code",
   "execution_count": 5,
   "metadata": {
    "scrolled": true
   },
   "outputs": [
    {
     "name": "stdout",
     "output_type": "stream",
     "text": [
      "0\n",
      "1\n",
      "2\n",
      "3\n",
      "4\n",
      "5\n",
      "6\n",
      "7\n",
      "8\n",
      "9\n",
      "10\n",
      "11\n",
      "12\n",
      "13\n",
      "14\n",
      "15\n",
      "16\n",
      "17\n",
      "18\n",
      "19\n",
      "20\n",
      "21\n",
      "22\n",
      "23\n",
      "24\n",
      "25\n",
      "26\n",
      "27\n",
      "28\n",
      "29\n",
      "30\n",
      "31\n",
      "32\n",
      "33\n",
      "34\n",
      "35\n",
      "36\n",
      "37\n",
      "38\n",
      "39\n",
      "40\n",
      "41\n",
      "42\n",
      "43\n",
      "44\n",
      "45\n",
      "46\n",
      "47\n",
      "48\n",
      "49\n",
      "50\n",
      "51\n",
      "52\n",
      "53\n",
      "54\n",
      "55\n",
      "56\n",
      "57\n",
      "58\n",
      "59\n",
      "60\n",
      "61\n",
      "62\n",
      "63\n",
      "64\n",
      "65\n",
      "66\n",
      "67\n",
      "68\n",
      "69\n",
      "70\n",
      "71\n",
      "72\n",
      "73\n",
      "74\n",
      "75\n",
      "76\n",
      "77\n",
      "78\n",
      "79\n",
      "80\n",
      "81\n",
      "82\n",
      "83\n",
      "84\n",
      "85\n",
      "86\n",
      "87\n",
      "88\n",
      "89\n",
      "90\n",
      "91\n",
      "92\n",
      "93\n",
      "94\n",
      "95\n",
      "96\n",
      "97\n",
      "98\n",
      "99\n",
      "100\n",
      "101\n",
      "102\n",
      "103\n",
      "104\n",
      "105\n",
      "106\n",
      "107\n",
      "108\n",
      "109\n",
      "110\n",
      "111\n",
      "112\n",
      "113\n",
      "114\n",
      "115\n",
      "116\n",
      "117\n",
      "118\n",
      "119\n",
      "120\n",
      "121\n",
      "122\n",
      "123\n",
      "124\n",
      "125\n",
      "126\n",
      "127\n",
      "128\n",
      "129\n",
      "130\n",
      "131\n",
      "132\n",
      "133\n",
      "134\n",
      "135\n",
      "136\n",
      "137\n",
      "138\n",
      "139\n",
      "140\n",
      "141\n",
      "142\n",
      "143\n",
      "144\n",
      "145\n",
      "146\n",
      "147\n",
      "148\n",
      "149\n",
      "150\n",
      "151\n",
      "152\n",
      "153\n",
      "154\n",
      "155\n",
      "156\n",
      "157\n",
      "158\n",
      "159\n",
      "160\n",
      "161\n",
      "162\n",
      "163\n",
      "164\n",
      "165\n",
      "166\n",
      "167\n",
      "168\n",
      "169\n",
      "170\n",
      "171\n",
      "172\n",
      "173\n",
      "174\n",
      "175\n",
      "176\n",
      "177\n",
      "178\n",
      "179\n",
      "180\n",
      "181\n",
      "182\n",
      "183\n",
      "184\n",
      "185\n",
      "186\n",
      "187\n",
      "188\n",
      "189\n",
      "190\n",
      "191\n",
      "192\n",
      "193\n",
      "194\n",
      "195\n",
      "196\n",
      "197\n",
      "198\n",
      "199\n",
      "200\n",
      "201\n",
      "202\n",
      "203\n",
      "204\n",
      "205\n",
      "206\n",
      "207\n",
      "208\n",
      "209\n",
      "210\n",
      "211\n",
      "212\n",
      "213\n",
      "214\n",
      "215\n",
      "216\n",
      "217\n",
      "218\n",
      "219\n",
      "220\n",
      "221\n",
      "222\n",
      "223\n",
      "224\n",
      "225\n",
      "226\n",
      "227\n",
      "228\n",
      "229\n",
      "230\n",
      "231\n",
      "232\n",
      "233\n",
      "234\n",
      "235\n",
      "236\n",
      "237\n",
      "238\n",
      "239\n",
      "240\n",
      "241\n",
      "242\n",
      "243\n",
      "244\n",
      "245\n",
      "246\n",
      "247\n",
      "248\n",
      "249\n",
      "250\n",
      "251\n",
      "252\n",
      "253\n",
      "254\n",
      "255\n",
      "256\n",
      "257\n",
      "258\n",
      "259\n",
      "260\n",
      "261\n",
      "262\n",
      "263\n",
      "264\n",
      "265\n",
      "266\n",
      "267\n",
      "268\n",
      "269\n",
      "270\n",
      "271\n",
      "272\n",
      "273\n",
      "274\n",
      "275\n",
      "276\n",
      "277\n",
      "278\n",
      "279\n",
      "280\n",
      "281\n",
      "282\n",
      "283\n",
      "284\n",
      "285\n",
      "286\n",
      "287\n",
      "288\n",
      "289\n",
      "290\n",
      "291\n",
      "292\n",
      "293\n",
      "294\n",
      "295\n",
      "296\n",
      "297\n",
      "298\n",
      "299\n",
      "300\n",
      "301\n",
      "302\n",
      "303\n",
      "304\n",
      "305\n",
      "306\n",
      "307\n",
      "308\n",
      "309\n",
      "310\n",
      "311\n",
      "312\n",
      "313\n",
      "314\n",
      "315\n",
      "316\n",
      "317\n",
      "318\n",
      "319\n",
      "320\n",
      "321\n",
      "322\n",
      "323\n",
      "324\n",
      "325\n",
      "326\n",
      "327\n",
      "328\n",
      "329\n",
      "330\n",
      "331\n",
      "332\n",
      "333\n",
      "334\n",
      "335\n",
      "336\n",
      "337\n",
      "338\n",
      "339\n",
      "340\n",
      "341\n",
      "342\n",
      "343\n",
      "344\n",
      "345\n",
      "346\n",
      "347\n",
      "348\n",
      "349\n",
      "350\n",
      "351\n",
      "352\n",
      "353\n",
      "354\n",
      "355\n",
      "356\n",
      "357\n",
      "358\n",
      "359\n",
      "360\n",
      "361\n",
      "362\n",
      "363\n",
      "364\n",
      "365\n",
      "366\n",
      "367\n",
      "368\n",
      "369\n",
      "370\n",
      "371\n",
      "372\n",
      "373\n",
      "374\n",
      "375\n",
      "376\n",
      "377\n",
      "378\n",
      "379\n",
      "380\n",
      "381\n",
      "382\n",
      "383\n",
      "384\n",
      "385\n",
      "386\n",
      "387\n",
      "388\n",
      "389\n",
      "390\n",
      "391\n",
      "392\n",
      "393\n",
      "394\n",
      "395\n",
      "396\n",
      "397\n",
      "398\n",
      "399\n",
      "400\n",
      "401\n",
      "402\n",
      "403\n",
      "404\n",
      "405\n",
      "406\n",
      "407\n",
      "408\n",
      "409\n",
      "410\n",
      "411\n",
      "412\n",
      "413\n",
      "414\n",
      "415\n",
      "416\n",
      "417\n",
      "418\n",
      "419\n",
      "420\n",
      "421\n",
      "422\n",
      "423\n",
      "424\n",
      "425\n",
      "426\n",
      "427\n",
      "428\n",
      "429\n",
      "430\n",
      "431\n",
      "432\n",
      "433\n",
      "434\n",
      "435\n",
      "436\n",
      "437\n",
      "438\n",
      "439\n",
      "440\n",
      "441\n",
      "442\n",
      "443\n",
      "444\n",
      "445\n",
      "446\n",
      "447\n",
      "448\n",
      "449\n",
      "450\n",
      "451\n",
      "452\n",
      "453\n",
      "454\n",
      "455\n",
      "456\n",
      "457\n",
      "458\n",
      "459\n",
      "460\n",
      "461\n",
      "462\n",
      "463\n",
      "464\n",
      "465\n",
      "466\n",
      "467\n",
      "468\n",
      "469\n",
      "470\n",
      "471\n",
      "472\n",
      "473\n",
      "474\n",
      "475\n",
      "476\n",
      "477\n",
      "478\n",
      "479\n",
      "480\n",
      "481\n",
      "482\n",
      "483\n",
      "484\n",
      "485\n",
      "486\n",
      "487\n",
      "488\n",
      "489\n",
      "490\n",
      "491\n",
      "492\n",
      "493\n",
      "494\n",
      "495\n",
      "496\n",
      "497\n",
      "498\n",
      "499\n",
      "500\n",
      "501\n",
      "502\n",
      "503\n",
      "504\n",
      "505\n",
      "506\n",
      "507\n",
      "508\n",
      "509\n",
      "510\n",
      "511\n",
      "512\n",
      "513\n",
      "514\n",
      "515\n",
      "516\n",
      "517\n",
      "518\n",
      "519\n",
      "520\n",
      "521\n",
      "522\n",
      "523\n",
      "524\n",
      "525\n",
      "526\n",
      "527\n",
      "528\n",
      "529\n",
      "530\n",
      "531\n",
      "532\n",
      "533\n",
      "534\n",
      "535\n",
      "536\n",
      "537\n",
      "538\n",
      "539\n",
      "540\n",
      "541\n",
      "542\n",
      "543\n",
      "544\n",
      "545\n",
      "546\n",
      "547\n",
      "548\n",
      "549\n",
      "550\n",
      "551\n",
      "552\n",
      "553\n",
      "554\n",
      "555\n",
      "556\n",
      "557\n",
      "558\n",
      "559\n",
      "560\n",
      "561\n",
      "562\n",
      "563\n",
      "564\n",
      "565\n",
      "566\n",
      "567\n",
      "568\n",
      "569\n",
      "570\n",
      "571\n",
      "572\n",
      "573\n",
      "574\n",
      "575\n",
      "576\n",
      "577\n",
      "578\n",
      "579\n",
      "580\n",
      "581\n",
      "582\n",
      "583\n",
      "584\n",
      "585\n",
      "586\n",
      "587\n",
      "588\n",
      "589\n",
      "590\n",
      "591\n",
      "592\n",
      "593\n",
      "594\n",
      "595\n",
      "596\n",
      "597\n",
      "598\n",
      "599\n",
      "600\n",
      "601\n",
      "602\n",
      "603\n",
      "604\n",
      "605\n",
      "606\n",
      "607\n",
      "608\n",
      "609\n",
      "610\n",
      "611\n",
      "612\n",
      "613\n",
      "614\n",
      "615\n",
      "616\n",
      "617\n",
      "618\n",
      "619\n",
      "620\n",
      "621\n",
      "622\n",
      "623\n",
      "624\n",
      "625\n",
      "626\n",
      "627\n",
      "628\n",
      "629\n",
      "630\n",
      "631\n",
      "632\n",
      "633\n",
      "634\n",
      "635\n",
      "636\n",
      "637\n",
      "638\n",
      "639\n",
      "640\n",
      "641\n",
      "642\n",
      "643\n",
      "644\n",
      "645\n",
      "646\n",
      "647\n",
      "648\n",
      "649\n",
      "650\n",
      "651\n",
      "652\n",
      "653\n",
      "654\n",
      "655\n",
      "656\n",
      "657\n",
      "658\n",
      "659\n",
      "660\n",
      "661\n",
      "662\n",
      "663\n",
      "664\n",
      "665\n",
      "666\n",
      "667\n",
      "668\n",
      "669\n",
      "670\n",
      "671\n",
      "672\n",
      "673\n",
      "674\n",
      "675\n",
      "676\n",
      "677\n",
      "678\n",
      "679\n",
      "680\n",
      "681\n",
      "682\n",
      "683\n",
      "684\n",
      "685\n",
      "686\n",
      "687\n",
      "688\n",
      "689\n",
      "690\n",
      "691\n",
      "692\n",
      "693\n",
      "694\n",
      "695\n",
      "696\n",
      "697\n",
      "698\n",
      "699\n",
      "700\n",
      "701\n",
      "702\n",
      "703\n",
      "704\n",
      "705\n",
      "706\n",
      "707\n",
      "708\n",
      "709\n",
      "710\n",
      "711\n",
      "712\n",
      "713\n",
      "714\n",
      "715\n",
      "716\n",
      "717\n",
      "718\n",
      "719\n",
      "720\n",
      "721\n",
      "722\n",
      "723\n",
      "724\n",
      "725\n",
      "726\n",
      "727\n",
      "728\n",
      "729\n",
      "730\n",
      "731\n",
      "732\n",
      "733\n",
      "734\n",
      "735\n",
      "736\n",
      "737\n",
      "738\n",
      "739\n",
      "740\n",
      "741\n",
      "742\n",
      "743\n",
      "744\n",
      "745\n",
      "746\n",
      "747\n",
      "748\n",
      "749\n",
      "750\n",
      "751\n",
      "752\n",
      "753\n",
      "754\n",
      "755\n",
      "756\n",
      "757\n",
      "758\n",
      "759\n",
      "760\n",
      "761\n",
      "762\n",
      "763\n",
      "764\n",
      "765\n",
      "766\n",
      "767\n",
      "768\n",
      "769\n",
      "770\n",
      "771\n",
      "772\n",
      "773\n",
      "774\n",
      "775\n",
      "776\n",
      "777\n",
      "778\n",
      "779\n",
      "780\n",
      "781\n",
      "782\n",
      "783\n",
      "784\n",
      "785\n",
      "786\n",
      "787\n",
      "788\n",
      "789\n",
      "790\n",
      "791\n",
      "792\n",
      "793\n",
      "794\n",
      "795\n",
      "796\n",
      "797\n",
      "798\n",
      "799\n",
      "800\n",
      "801\n",
      "802\n",
      "803\n",
      "804\n",
      "805\n",
      "806\n",
      "807\n",
      "808\n",
      "809\n",
      "810\n",
      "811\n",
      "812\n",
      "813\n",
      "814\n",
      "815\n",
      "816\n",
      "817\n",
      "818\n",
      "819\n",
      "820\n",
      "821\n",
      "822\n",
      "823\n",
      "824\n",
      "825\n",
      "826\n",
      "827\n",
      "828\n",
      "829\n",
      "830\n",
      "831\n",
      "832\n",
      "833\n",
      "834\n",
      "835\n",
      "836\n",
      "837\n",
      "838\n",
      "839\n",
      "840\n",
      "841\n",
      "842\n",
      "843\n",
      "844\n",
      "845\n",
      "846\n",
      "847\n",
      "848\n",
      "849\n",
      "850\n",
      "851\n",
      "852\n",
      "853\n",
      "854\n",
      "855\n",
      "856\n",
      "857\n",
      "858\n",
      "859\n",
      "860\n",
      "861\n",
      "862\n",
      "863\n",
      "864\n",
      "865\n",
      "866\n",
      "867\n",
      "868\n",
      "869\n",
      "870\n",
      "871\n",
      "872\n",
      "873\n",
      "874\n",
      "875\n",
      "876\n",
      "877\n",
      "878\n",
      "879\n",
      "880\n",
      "881\n",
      "882\n",
      "883\n",
      "884\n",
      "885\n",
      "886\n",
      "887\n",
      "888\n",
      "889\n",
      "890\n",
      "891\n",
      "892\n",
      "893\n",
      "894\n",
      "895\n",
      "896\n",
      "897\n",
      "898\n",
      "899\n",
      "900\n",
      "901\n",
      "902\n",
      "903\n",
      "904\n",
      "905\n",
      "906\n",
      "907\n",
      "908\n",
      "909\n",
      "910\n",
      "911\n",
      "912\n",
      "913\n",
      "914\n",
      "915\n",
      "916\n",
      "917\n",
      "918\n",
      "919\n",
      "920\n",
      "921\n",
      "922\n",
      "923\n",
      "924\n",
      "925\n",
      "926\n",
      "927\n",
      "928\n",
      "929\n",
      "930\n",
      "931\n",
      "932\n",
      "933\n",
      "934\n",
      "935\n",
      "936\n",
      "937\n",
      "938\n",
      "939\n",
      "940\n",
      "941\n",
      "942\n",
      "943\n",
      "944\n",
      "945\n",
      "946\n",
      "947\n",
      "948\n",
      "949\n",
      "950\n",
      "951\n",
      "952\n",
      "953\n",
      "954\n",
      "955\n",
      "956\n",
      "957\n",
      "958\n",
      "959\n",
      "960\n",
      "961\n",
      "962\n",
      "963\n",
      "964\n",
      "965\n",
      "966\n",
      "967\n",
      "968\n",
      "969\n",
      "970\n",
      "971\n",
      "972\n",
      "973\n",
      "974\n",
      "975\n",
      "976\n",
      "977\n",
      "978\n",
      "979\n",
      "980\n",
      "981\n",
      "982\n",
      "983\n",
      "984\n",
      "985\n",
      "986\n",
      "987\n",
      "988\n",
      "989\n",
      "990\n",
      "991\n",
      "992\n",
      "993\n",
      "994\n",
      "995\n",
      "996\n",
      "997\n",
      "998\n",
      "999\n"
     ]
    }
   ],
   "source": [
    "sts_ori = []\n",
    "for i in range(0, 1000):\n",
    "    print(i)\n",
    "    path = \"/Users/chengminghe/Dropbox/research/ubq/md/ubiquitin/snapshots_prot_no_align/3ons_1000ns_\" + str(i) + \".maegz\"\n",
    "    st = structure.Structure.read(path)\n",
    "    # remove non-protein\n",
    "    non_protein_atoms = analyze.evaluate_asl(st, '(NOT protein) or (ligand) or (solvent)')\n",
    "    st.deleteAtoms(non_protein_atoms)\n",
    "    sts_ori.append(st)"
   ]
  },
  {
   "cell_type": "code",
   "execution_count": 6,
   "metadata": {},
   "outputs": [
    {
     "data": {
      "text/plain": [
       "[1.675023, 2.754168, 11.596216]"
      ]
     },
     "execution_count": 6,
     "metadata": {},
     "output_type": "execute_result"
    }
   ],
   "source": [
    "sts_ori[-1].atom[20].xyz"
   ]
  },
  {
   "cell_type": "code",
   "execution_count": 7,
   "metadata": {},
   "outputs": [],
   "source": [
    "# align structures. Ref: the first snapshot \n",
    "sts = sts_ori.copy()\n",
    "ref_st = sts[0]\n",
    "asl_for_superimpose = \"(heavy_atoms) and (backbone) and (res. 1-70)\"\n",
    "ref_st_atoms_for_superimpose = analyze.evaluate_asl(ref_st, asl_for_superimpose)\n",
    "\n",
    "for i in range(1, len(sts)):\n",
    "    trg_st = sts[i]\n",
    "    trg_st_atoms_for_superimpose = analyze.evaluate_asl(trg_st, asl_for_superimpose)\n",
    "    # superimpose\n",
    "    superimpose_rmsd = rmsd.superimpose(ref_st, ref_st_atoms_for_superimpose, trg_st, trg_st_atoms_for_superimpose, move_which=rmsd.MOLECULES)"
   ]
  },
  {
   "cell_type": "code",
   "execution_count": 8,
   "metadata": {},
   "outputs": [
    {
     "data": {
      "text/plain": [
       "[2.3757399696365153, -5.98803567765405, 3.2138374227687816]"
      ]
     },
     "execution_count": 8,
     "metadata": {},
     "output_type": "execute_result"
    }
   ],
   "source": [
    "sts_ori[-1].atom[20].xyz"
   ]
  },
  {
   "cell_type": "code",
   "execution_count": 59,
   "metadata": {},
   "outputs": [],
   "source": [
    "all_resnum = [res.resnum for res in sts[0].residue]\n",
    "# get residues that have amide bond    \n",
    "H_asl = \"protein and (atom.ptype H)\"\n",
    "H_resnum = np.array([st.atom[n].resnum for n in analyze.evaluate_asl(sts[0], H_asl)])\n",
    "N_asl = \"protein and (atom.ptype N)\"\n",
    "N_resnum = np.array([st.atom[n].resnum for n in analyze.evaluate_asl(sts[0], N_asl)])\n",
    "valid_resnum = np.array([n for n in all_resnum if (n in H_resnum and n in N_resnum)])"
   ]
  },
  {
   "cell_type": "code",
   "execution_count": 70,
   "metadata": {},
   "outputs": [
    {
     "data": {
      "text/plain": [
       "72"
      ]
     },
     "execution_count": 70,
     "metadata": {},
     "output_type": "execute_result"
    }
   ],
   "source": [
    "C_asl = \"protein and (atom.ptype C)\"\n",
    "C_resnum = np.array([st.atom[n].resnum for n in analyze.evaluate_asl(sts[0], H_asl)])\n",
    "N_asl = \"protein and (atom.ptype N)\"\n",
    "N_resnum = np.array([st.atom[n].resnum for n in analyze.evaluate_asl(sts[0], N_asl)])\n",
    "valid_resnum_nc = np.array([n for n in all_resnum if (n in C_resnum and n in N_resnum)])\n",
    "len(valid_resnum)"
   ]
  },
  {
   "cell_type": "code",
   "execution_count": 68,
   "metadata": {},
   "outputs": [
    {
     "data": {
      "text/plain": [
       "72"
      ]
     },
     "execution_count": 68,
     "metadata": {},
     "output_type": "execute_result"
    }
   ],
   "source": [
    "Ca_asl = \"protein and (atom.ptype Ca)\"\n",
    "Ca_resnum = np.array([st.atom[n].resnum for n in analyze.evaluate_asl(sts[0], H_asl)])\n",
    "N_asl = \"protein and (atom.ptype N)\"\n",
    "N_resnum = np.array([st.atom[n].resnum for n in analyze.evaluate_asl(sts[0], N_asl)])\n",
    "valid_resnum_nca = np.array([n for n in all_resnum if (n in Ca_resnum and n in N_resnum)])\n",
    "len(Ca_resnum)"
   ]
  },
  {
   "cell_type": "code",
   "execution_count": 71,
   "metadata": {},
   "outputs": [],
   "source": [
    "# extract nc vectors\n",
    "nc_bond_vec = []\n",
    "for i in range(0, len(sts)):\n",
    "    st = sts[i]\n",
    "  \n",
    "    C_coor = np.array([st.atom[n].xyz for n in analyze.evaluate_asl(st, C_asl) if st.atom[n].resnum in valid_resnum_nc])\n",
    "    N_coor = np.array([st.atom[n].xyz for n in analyze.evaluate_asl(st, N_asl) if st.atom[n].resnum in valid_resnum_nc])\n",
    "    \n",
    "    unit_vec = (C_coor[:-1]-N_coor[1:])/np.linalg.norm((C_coor[:-1]-N_coor[1:]), axis=-1, keepdims=True)\n",
    "    nc_bond_vec.append(unit_vec)\n",
    "nc_bond_vec = np.stack(nc_bond_vec, 0)"
   ]
  },
  {
   "cell_type": "code",
   "execution_count": 72,
   "metadata": {},
   "outputs": [],
   "source": [
    "# extract nca vectors\n",
    "nca_bond_vec = []\n",
    "for i in range(0, len(sts)):\n",
    "    st = sts[i]\n",
    "  \n",
    "    Ca_coor = np.array([st.atom[n].xyz for n in analyze.evaluate_asl(st, Ca_asl) if st.atom[n].resnum in valid_resnum_nca])\n",
    "    N_coor = np.array([st.atom[n].xyz for n in analyze.evaluate_asl(st, N_asl) if st.atom[n].resnum in valid_resnum_nca])\n",
    "    \n",
    "    unit_vec = (Ca_coor-N_coor)/np.linalg.norm((Ca_coor-N_coor), axis=-1, keepdims=True)\n",
    "    nca_bond_vec.append(unit_vec)\n",
    "nca_bond_vec = np.stack(nca_bond_vec, 0)"
   ]
  },
  {
   "cell_type": "code",
   "execution_count": 73,
   "metadata": {},
   "outputs": [],
   "source": [
    "# extract amide bond vectors\n",
    "amide_bond_vec = []\n",
    "for i in range(0, len(sts)):\n",
    "    st = sts[i]\n",
    "    \n",
    "    H_coor = np.array([st.atom[n].xyz for n in analyze.evaluate_asl(st, H_asl) if st.atom[n].resnum in valid_resnum])\n",
    "    N_coor = np.array([st.atom[n].xyz for n in analyze.evaluate_asl(st, N_asl) if st.atom[n].resnum in valid_resnum])\n",
    "    \n",
    "    unit_vec = (H_coor-N_coor)/np.linalg.norm((H_coor-N_coor), axis=-1, keepdims=True)\n",
    "    amide_bond_vec.append(unit_vec)\n",
    "amide_bond_vec = np.stack(amide_bond_vec, 0)"
   ]
  },
  {
   "cell_type": "code",
   "execution_count": 74,
   "metadata": {},
   "outputs": [
    {
     "data": {
      "text/plain": [
       "(1000, 71, 3)"
      ]
     },
     "execution_count": 74,
     "metadata": {},
     "output_type": "execute_result"
    }
   ],
   "source": [
    "nc_bond_vec.shape"
   ]
  },
  {
   "cell_type": "code",
   "execution_count": 12,
   "metadata": {},
   "outputs": [],
   "source": [
    "bfac = np.array([res.temperature_factor for res in st.residue if res.resnum in valid_resnum])"
   ]
  },
  {
   "cell_type": "code",
   "execution_count": 13,
   "metadata": {},
   "outputs": [],
   "source": [
    "average_st = analyze.get_average_structure(sts)"
   ]
  },
  {
   "cell_type": "code",
   "execution_count": 14,
   "metadata": {},
   "outputs": [],
   "source": [
    "average_rmsds = []\n",
    "ref_st = average_st\n",
    "for trg_res_num in valid_resnum:\n",
    "    average_rmsd = 0.\n",
    "    for trg_st in sts:\n",
    "        rmsd_asl = \"protein and (atom.ptype H or atom.ptype N) and res. \" + str(trg_res_num)\n",
    "        trg_res = analyze.evaluate_asl(trg_st, rmsd_asl)\n",
    "        _rmsd = rmsd.calculate_in_place_rmsd(ref_st, trg_res, trg_st, trg_res)\n",
    "        average_rmsd += _rmsd\n",
    "    average_rmsd /= len(sts)\n",
    "    average_rmsds.append(average_rmsd)"
   ]
  },
  {
   "cell_type": "code",
   "execution_count": 15,
   "metadata": {},
   "outputs": [
    {
     "data": {
      "image/png": "[encoded data removed]",
      "text/plain": [
       "<Figure size 432x288 with 1 Axes>"
      ]
     },
     "metadata": {
      "needs_background": "light"
     },
     "output_type": "display_data"
    }
   ],
   "source": [
    "plt.scatter(valid_resnum[:-1], average_rmsds[:-1])\n",
    "plt.show()"
   ]
  },
  {
   "cell_type": "code",
   "execution_count": 16,
   "metadata": {},
   "outputs": [
    {
     "data": {
      "text/plain": [
       "0.48491509659751575"
      ]
     },
     "execution_count": 16,
     "metadata": {},
     "output_type": "execute_result"
    }
   ],
   "source": [
    "average_rmsds[np.where(valid_resnum==20)[0].item()]"
   ]
  },
  {
   "cell_type": "markdown",
   "metadata": {},
   "source": [
    "## C_I(100ns)"
   ]
  },
  {
   "cell_type": "code",
   "execution_count": 17,
   "metadata": {},
   "outputs": [],
   "source": [
    "def c_int_1(t, bond_vec):\n",
    "    tot_timesteps = bond_vec.shape[0]\n",
    "    assert t<=tot_timesteps\n",
    "    result = 0\n",
    "    for timestep in range(tot_timesteps):\n",
    "        a = bond_vec[timestep] # (N, 3)\n",
    "        b = bond_vec[t-1] # (N, 3)\n",
    "        result += 3*(a*b).sum(-1)**2-1\n",
    "    result /= tot_timesteps\n",
    "    result *= 0.5\n",
    "    return result"
   ]
  },
  {
   "cell_type": "code",
   "execution_count": 75,
   "metadata": {},
   "outputs": [],
   "source": [
    "# 100ns\n",
    "block= [10,20,50,100,200,500]\n",
    "c_int_100 = c_int_1(200, nc_bond_vec)"
   ]
  },
  {
   "cell_type": "code",
   "execution_count": 76,
   "metadata": {},
   "outputs": [
    {
     "data": {
      "text/plain": [
       "array([0.9305829 , 0.96096605, 0.94880064, 0.88536031, 0.8838366 ,\n",
       "       0.69736669, 0.83631114, 0.69439707, 0.76880459, 0.76809103,\n",
       "       0.85983888, 0.85690233, 0.88129705, 0.93900662, 0.92285802,\n",
       "       0.93735931, 0.85756146, 0.9116386 , 0.94482264, 0.85261156,\n",
       "       0.80767395, 0.92934603, 0.94755164, 0.80711091, 0.91605771,\n",
       "       0.93702291, 0.96434459, 0.97080921, 0.90771271, 0.96018454,\n",
       "       0.87562099, 0.89950297, 0.91280846, 0.90491004, 0.81636695,\n",
       "       0.85115852, 0.93187648, 0.88260384, 0.92577246, 0.86945856,\n",
       "       0.92495509, 0.8883732 , 0.95493057, 0.90370017, 0.86003805,\n",
       "       0.80678313, 0.71692534, 0.90528153, 0.91356914, 0.93780309,\n",
       "       0.92846318, 0.69233553, 0.90987566, 0.93091688, 0.95678018,\n",
       "       0.95857513, 0.95980974, 0.82400984, 0.91420387, 0.92924181,\n",
       "       0.80657667, 0.95648019, 0.93164931, 0.91346537, 0.90163307,\n",
       "       0.88253918, 0.88675192, 0.72249594, 0.94181658, 0.82530394,\n",
       "       0.72511928])"
      ]
     },
     "execution_count": 76,
     "metadata": {},
     "output_type": "execute_result"
    }
   ],
   "source": [
    "(c_int_100)"
   ]
  },
  {
   "cell_type": "code",
   "execution_count": 79,
   "metadata": {},
   "outputs": [],
   "source": [
    "block= [10,20,50,100,200,500]\n",
    "s2_list = [c_int_1(b, nca_bond_vec) for b in block]\n",
    "\n",
    "data = {\n",
    "    '3ons_1000ns_nca_cint':(block,s2_list)\n",
    "}\n",
    "with open(\"3ons_1000ns_nca_cint\", \"wb\") as f:\n",
    "    pkl.dump(data, f)"
   ]
  },
  {
   "cell_type": "code",
   "execution_count": 58,
   "metadata": {},
   "outputs": [
    {
     "data": {
      "text/plain": [
       "array([ 2,  3,  4,  5,  6,  7,  8,  9, 10, 11, 12, 13, 14, 15, 16, 17, 18,\n",
       "       20, 21, 22, 23, 24, 25, 26, 27, 28, 29, 30, 31, 32, 33, 34, 35, 36,\n",
       "       39, 40, 41, 42, 43, 44, 45, 46, 47, 48, 49, 50, 51, 52, 53, 54, 55,\n",
       "       56, 57, 58, 59, 60, 61, 62, 63, 64, 65, 66, 67, 68, 69, 70, 71])"
      ]
     },
     "execution_count": 58,
     "metadata": {},
     "output_type": "execute_result"
    }
   ],
   "source": [
    "valid_resnum[:-1]"
   ]
  },
  {
   "cell_type": "code",
   "execution_count": 51,
   "metadata": {},
   "outputs": [
    {
     "data": {
      "image/png": "[encoded data removed]",
      "text/plain": [
       "<Figure size 432x288 with 1 Axes>"
      ]
     },
     "metadata": {
      "needs_background": "light"
     },
     "output_type": "display_data"
    }
   ],
   "source": [
    "plt.scatter(valid_resnum[:-1], c_int_100[:-1])\n",
    "plt.ylim(0,1)\n",
    "plt.show()"
   ]
  },
  {
   "cell_type": "code",
   "execution_count": 45,
   "metadata": {},
   "outputs": [
    {
     "ename": "IsADirectoryError",
     "evalue": "[Errno 21] Is a directory: '3ons_1000ns'",
     "output_type": "error",
     "traceback": [
      "\u001b[0;31m---------------------------------------------------------------------------\u001b[0m",
      "\u001b[0;31mIsADirectoryError\u001b[0m                         Traceback (most recent call last)",
      "\u001b[0;32m<ipython-input-45-3a6e9ea03e84>\u001b[0m in \u001b[0;36m<module>\u001b[0;34m\u001b[0m\n\u001b[0;32m----> 1\u001b[0;31m \u001b[0;32mwith\u001b[0m \u001b[0mopen\u001b[0m\u001b[0;34m(\u001b[0m\u001b[0;34m\"3ons_1000ns\"\u001b[0m\u001b[0;34m,\u001b[0m \u001b[0;34m\"wb\"\u001b[0m\u001b[0;34m)\u001b[0m \u001b[0;32mas\u001b[0m \u001b[0mf\u001b[0m\u001b[0;34m:\u001b[0m\u001b[0;34m\u001b[0m\u001b[0;34m\u001b[0m\u001b[0m\n\u001b[0m\u001b[1;32m      2\u001b[0m     \u001b[0mpickle\u001b[0m\u001b[0;34m.\u001b[0m\u001b[0mdump\u001b[0m\u001b[0;34m(\u001b[0m\u001b[0mcov_ensemble_nc\u001b[0m\u001b[0;34m,\u001b[0m \u001b[0mf\u001b[0m\u001b[0;34m)\u001b[0m\u001b[0;34m\u001b[0m\u001b[0;34m\u001b[0m\u001b[0m\n",
      "\u001b[0;31mIsADirectoryError\u001b[0m: [Errno 21] Is a directory: '3ons_1000ns'"
     ]
    }
   ],
   "source": [
    "with open(\"3ons_1000ns\", \"wb\") as f:\n",
    "    pickle.dump(cov_ensemble_nc, f)"
   ]
  },
  {
   "cell_type": "code",
   "execution_count": 21,
   "metadata": {},
   "outputs": [],
   "source": [
    "from sklearn.metrics import r2_score"
   ]
  },
  {
   "cell_type": "code",
   "execution_count": 22,
   "metadata": {},
   "outputs": [
    {
     "data": {
      "image/png": "[encoded data removed]",
      "text/plain": [
       "<Figure size 432x288 with 1 Axes>"
      ]
     },
     "metadata": {
      "needs_background": "light"
     },
     "output_type": "display_data"
    },
    {
     "data": {
      "text/plain": [
       "0.17971290322196865"
      ]
     },
     "execution_count": 22,
     "metadata": {},
     "output_type": "execute_result"
    }
   ],
   "source": [
    "x = c_int_100[:-1]\n",
    "y = average_rmsds[:-1]\n",
    "coef = np.polyfit(x, y, 1)\n",
    "poly1d_fn = np.poly1d(coef) \n",
    "# poly1d_fn is now a function which takes in x and returns an estimate for y\n",
    "\n",
    "plt.plot(x, y, 'yo', x, poly1d_fn(x), '--k') #'--k'=black dashed line, 'yo' = yellow circle marker\n",
    "plt.show()\n",
    "r2_score(y,  poly1d_fn(x))"
   ]
  },
  {
   "cell_type": "markdown",
   "metadata": {},
   "source": [
    "## P2"
   ]
  },
  {
   "cell_type": "code",
   "execution_count": 20,
   "metadata": {},
   "outputs": [],
   "source": [
    "def c_int_2(bond_vec):\n",
    "    tot_timesteps = bond_vec.shape[0]\n",
    "    xx = 0\n",
    "    yy = 0\n",
    "    zz = 0\n",
    "    xy = 0\n",
    "    xz = 0\n",
    "    yz = 0\n",
    "    for timestep in range(tot_timesteps):\n",
    "        a = bond_vec[timestep] # (N, 3)        \n",
    "        xx += a[:, 0]*a[:, 0]\n",
    "        yy += a[:, 1]*a[:, 1]\n",
    "        zz += a[:, 2]*a[:, 2]\n",
    "        xy += a[:, 0]*a[:, 1]\n",
    "        xz += a[:, 0]*a[:, 2]\n",
    "        yz += a[:, 1]*a[:, 2]\n",
    "    \n",
    "    xx = (xx/tot_timesteps)**2\n",
    "    yy = (yy/tot_timesteps)**2\n",
    "    zz = (zz/tot_timesteps)**2\n",
    "    xy = (xy/tot_timesteps)**2\n",
    "    xz = (xz/tot_timesteps)**2\n",
    "    yz = (yz/tot_timesteps)**2\n",
    "    \n",
    "    return 1.5*(xx + yy + zz + 2*xy + 2*xz + 2*yz)-0.5"
   ]
  },
  {
   "cell_type": "code",
   "execution_count": 21,
   "metadata": {},
   "outputs": [],
   "source": [
    "c_int_inf_p2 = c_int_2(amide_bond_vec)"
   ]
  },
  {
   "cell_type": "code",
   "execution_count": 22,
   "metadata": {},
   "outputs": [
    {
     "data": {
      "image/png": "[encoded data removed]",
      "text/plain": [
       "<Figure size 432x288 with 1 Axes>"
      ]
     },
     "metadata": {
      "needs_background": "light"
     },
     "output_type": "display_data"
    }
   ],
   "source": [
    "plt.scatter(valid_resnum, c_int_inf_p2, color='g')\n",
    "# plt.scatter(valid_resnum[:-1], c_int_100[:-1], color='r')\n",
    "plt.ylim([0.3, 1])\n",
    "plt.show()"
   ]
  },
  {
   "cell_type": "code",
   "execution_count": 23,
   "metadata": {},
   "outputs": [
    {
     "data": {
      "image/png": "[encoded data removed]",
      "text/plain": [
       "<Figure size 432x288 with 1 Axes>"
      ]
     },
     "metadata": {
      "needs_background": "light"
     },
     "output_type": "display_data"
    },
    {
     "data": {
      "text/plain": [
       "0.5658671928811669"
      ]
     },
     "execution_count": 23,
     "metadata": {},
     "output_type": "execute_result"
    }
   ],
   "source": [
    "x = c_int_inf_p2[:-1]\n",
    "y = average_rmsds[:-1]\n",
    "coef = np.polyfit(x, y, 1)\n",
    "poly1d_fn = np.poly1d(coef) \n",
    "# poly1d_fn is now a function which takes in x and returns an estimate for y\n",
    "\n",
    "plt.plot(x, y, 'yo', x, poly1d_fn(x), '--k') #'--k'=black dashed line, 'yo' = yellow circle marker\n",
    "plt.show()\n",
    "r2_score(y,  poly1d_fn(x))"
   ]
  },
  {
   "cell_type": "markdown",
   "metadata": {},
   "source": [
    "## fit"
   ]
  },
  {
   "cell_type": "code",
   "execution_count": 24,
   "metadata": {},
   "outputs": [],
   "source": [
    "from scipy.optimize import curve_fit"
   ]
  },
  {
   "cell_type": "code",
   "execution_count": 25,
   "metadata": {},
   "outputs": [],
   "source": [
    "# extract amide bond vectors\n",
    "amide_bond_vec_ori = []\n",
    "for i in range(0, len(sts_ori)):\n",
    "    st = sts_ori[i]\n",
    "    H_coor = np.array([st.atom[n].xyz for n in analyze.evaluate_asl(st, H_asl) if st.atom[n].resnum in valid_resnum])\n",
    "    N_coor = np.array([st.atom[n].xyz for n in analyze.evaluate_asl(st, N_asl) if st.atom[n].resnum in valid_resnum])\n",
    "    amide_bond_vec_ori.append(H_coor-N_coor)\n",
    "amide_bond_vec_ori = np.stack(amide_bond_vec_ori, 0)"
   ]
  },
  {
   "cell_type": "code",
   "execution_count": 26,
   "metadata": {},
   "outputs": [
    {
     "data": {
      "text/plain": [
       "(1000, 68, 3)"
      ]
     },
     "execution_count": 26,
     "metadata": {},
     "output_type": "execute_result"
    }
   ],
   "source": [
    "amide_bond_vec_ori.shape"
   ]
  },
  {
   "cell_type": "code",
   "execution_count": 27,
   "metadata": {},
   "outputs": [],
   "source": [
    "def c_int_3(t, bond_vec):\n",
    "    tot_timesteps = bond_vec.shape[0]\n",
    "    assert t<=tot_timesteps\n",
    "    \n",
    "    bond_length = np.linalg.norm(bond_vec, axis=-1, keepdims=True) # (t, N, 1)\n",
    "    bond_vec_normalized = bond_vec/np.linalg.norm(bond_vec, axis=-1, keepdims=True)\n",
    "    xx = bond_vec_normalized[:, :, 0]**2 # (t, N)\n",
    "    yy = bond_vec_normalized[:, :, 1]**2\n",
    "    zz = bond_vec_normalized[:, :, 2]**2\n",
    "    xy = bond_vec_normalized[:, :, 0] * bond_vec_normalized[:, :, 1]\n",
    "    yx = xy # symmetric\n",
    "    xz = bond_vec_normalized[:, :, 0] * bond_vec_normalized[:, :, 2]\n",
    "    zx = xz\n",
    "    yz = bond_vec_normalized[:, :, 1] * bond_vec_normalized[:, :, 2]\n",
    "    zy = yz\n",
    "    x_col = np.stack([xx, yx, zx], -1)\n",
    "    y_col = np.stack([xy, yy, zy], -1)\n",
    "    z_col = np.stack([xz, yz, zz], -1)\n",
    "    phi = np.stack([x_col, y_col, z_col], -1)/bond_length[..., None]**3 # (t, N, 3, 3)\n",
    "    \n",
    "    phi_0_phi_t_accu = 0 # accumulator for calculating the average\n",
    "    tr_phi_0_tr_phi_t_accu = 0\n",
    "    r_accu = 0\n",
    "    for timestep in range(t):\n",
    "        phi_0_phi_t = phi[0, ...]@phi[timestep, ...] # (N, 3, 3)\n",
    "        tr_phi_0_tr_phi_t = np.trace(phi[0, ...], axis1=-2, axis2=-1)*np.trace(phi[timestep, ...], axis1=-2, axis2=-1)\n",
    "        phi_0_phi_t_accu += phi_0_phi_t\n",
    "        tr_phi_0_tr_phi_t_accu += tr_phi_0_tr_phi_t\n",
    "        r_accu += (bond_length[timestep, :, 0])**(-6)\n",
    "    phi_0_phi_t_accu /= t\n",
    "    tr_phi_0_tr_phi_t_accu /= t\n",
    "    r_accu /= t\n",
    "    result = (1/r_accu) * 0.5*(3*np.trace(phi_0_phi_t_accu, axis1=-2, axis2=-1) - tr_phi_0_tr_phi_t_accu)\n",
    "    return result"
   ]
  },
  {
   "cell_type": "code",
   "execution_count": 28,
   "metadata": {},
   "outputs": [],
   "source": [
    "def c_int_4(t, bond_vec):\n",
    "    tot_timesteps = bond_vec.shape[0]\n",
    "    assert t<=tot_timesteps\n",
    "    \n",
    "    bond_length = np.linalg.norm(bond_vec, axis=-1) # (t, N, 1)\n",
    "    bond_vec_normalized = bond_vec/np.linalg.norm(bond_vec, axis=-1, keepdims=True) # (t, N, 3)\n",
    "    \n",
    "    # prepare cos(theta) map\n",
    "    cos_map = (bond_vec_normalized[t:t+1, :, :]*bond_vec_normalized[:tot_timesteps-t]).sum(-1) # (tot-t+1, N, 3). cos(theta(t, i))\n",
    "    \n",
    "    # prepare denominator map\n",
    "    r_map = (bond_length[t:t+1, ...]**3) * (bond_length[t:, ...]**3)\n",
    "    \n",
    "    result = ((3*cos_map**2 - 1)/r_map).mean(0)/2\n",
    "    return result"
   ]
  },
  {
   "cell_type": "code",
   "execution_count": 29,
   "metadata": {},
   "outputs": [],
   "source": [
    "c_t = []\n",
    "timestep = []\n",
    "for t in range(1, amide_bond_vec_ori.shape[0]):\n",
    "    c_t.append(c_int_3(t, amide_bond_vec_ori))\n",
    "    timestep.append(t)\n",
    "c_t = np.stack(c_t, 0)\n",
    "timestep = np.stack(timestep, 0)\n",
    "# c_t[0], c_t.shape, timestep.shape"
   ]
  },
  {
   "cell_type": "code",
   "execution_count": 79,
   "metadata": {},
   "outputs": [
    {
     "data": {
      "text/plain": [
       "(999, 68)"
      ]
     },
     "execution_count": 79,
     "metadata": {},
     "output_type": "execute_result"
    }
   ],
   "source": [
    "c_t.shape"
   ]
  },
  {
   "cell_type": "code",
   "execution_count": 80,
   "metadata": {},
   "outputs": [],
   "source": [
    "# # determine tau_M\n",
    "# def motional_average_ls_cf(t, tau_M, S2):\n",
    "#     return np.exp(-t/tau_M)*S2"
   ]
  },
  {
   "cell_type": "code",
   "execution_count": 81,
   "metadata": {},
   "outputs": [],
   "source": [
    "# params = []\n",
    "# # fit to first 10ns\n",
    "# for i in range(10):\n",
    "#     popt, pcov = curve_fit(motional_average_ls_cf, timestep, c_t[:, i], maxfev=100000, bounds=((0, 0), (np.inf, 1)))\n",
    "#     params.append(popt)\n",
    "# params = np.stack(params, 0)"
   ]
  },
  {
   "cell_type": "code",
   "execution_count": 82,
   "metadata": {},
   "outputs": [],
   "source": [
    "# params"
   ]
  },
  {
   "cell_type": "code",
   "execution_count": 83,
   "metadata": {},
   "outputs": [],
   "source": [
    "# resnum = 1\n",
    "# plt.plot(timestep[:10], motional_average_ls_cf(timestep[:10], *params[resnum]), 'g--')\n",
    "# plt.scatter(timestep[:10], c_t[:10, resnum])"
   ]
  },
  {
   "cell_type": "code",
   "execution_count": 38,
   "metadata": {},
   "outputs": [],
   "source": [
    "def extended_ls_cf(t, tau_M, S2, S_f2, tau_e):\n",
    "    return np.exp(-t/tau_M)*(S2 + (S_f2-S2)*np.exp(-t/tau_e))\n",
    "def original_ls_cf(t, tau_M, S2, tau_e):\n",
    "    return (np.exp(-t/tau_M))*(S2 + (1-S2)*np.exp(-t/tau_e))"
   ]
  },
  {
   "cell_type": "code",
   "execution_count": 39,
   "metadata": {},
   "outputs": [],
   "source": [
    "# # extended LS\n",
    "# s2 = []\n",
    "# for i in range(c_t.shape[-1]):\n",
    "#     popt, pcov = curve_fit(extended_ls_cf, timestep, c_t[:, i], maxfev=100000, bounds=((0, 0, 0, 0), (np.inf, 1, 1, np.inf)))\n",
    "#     s2.append(popt)\n",
    "# s2 = np.stack(s2, 0)\n",
    "\n",
    "# original LS\n",
    "s2 = []\n",
    "for i in range(c_t.shape[-1]):\n",
    "    popt, pcov = curve_fit(original_ls_cf, timestep, c_t[:, i], maxfev=100000, bounds=((0, 0, 0), (np.inf, 1, np.inf)))\n",
    "    s2.append(popt)\n",
    "s2 = np.stack(s2, 0)"
   ]
  },
  {
   "cell_type": "code",
   "execution_count": 40,
   "metadata": {},
   "outputs": [
    {
     "data": {
      "text/plain": [
       "array([5.27128744e+04, 9.03348583e-01, 5.80083403e+00])"
      ]
     },
     "execution_count": 40,
     "metadata": {},
     "output_type": "execute_result"
    }
   ],
   "source": [
    "s2[1]"
   ]
  },
  {
   "cell_type": "code",
   "execution_count": 101,
   "metadata": {},
   "outputs": [
    {
     "data": {
      "image/png": "[encoded data removed]",
      "text/plain": [
       "<Figure size 432x288 with 1 Axes>"
      ]
     },
     "metadata": {
      "needs_background": "light"
     },
     "output_type": "display_data"
    }
   ],
   "source": [
    "plt.scatter(valid_resnum, s2[:, 1], color='g')\n",
    "for i, txt in enumerate(valid_resnum):\n",
    "    plt.annotate(txt, (valid_resnum[i], s2[:, 1][i]))\n",
    "plt.ylim([0.3, 1])\n",
    "plt.show()"
   ]
  },
  {
   "cell_type": "code",
   "execution_count": 49,
   "metadata": {},
   "outputs": [
    {
     "data": {
      "text/plain": [
       "array([[ 2.        ,  0.92511256],\n",
       "       [ 3.        ,  0.90334858],\n",
       "       [ 4.        ,  0.9122175 ],\n",
       "       [ 5.        ,  0.88576159],\n",
       "       [ 6.        ,  0.87971765],\n",
       "       [ 7.        ,  0.73188176],\n",
       "       [ 8.        ,  0.68730749],\n",
       "       [ 9.        ,  0.84317506],\n",
       "       [10.        ,  0.86534408],\n",
       "       [11.        ,  0.58352336],\n",
       "       [12.        ,  0.70441423],\n",
       "       [13.        ,  0.84477613],\n",
       "       [14.        ,  0.87445787],\n",
       "       [15.        ,  0.9257234 ],\n",
       "       [16.        ,  0.86656665],\n",
       "       [17.        ,  0.88661071],\n",
       "       [18.        ,  0.8900211 ],\n",
       "       [20.        ,  0.89993845],\n",
       "       [21.        ,  0.92291464],\n",
       "       [22.        ,  0.89070462],\n",
       "       [23.        ,  0.79222834],\n",
       "       [24.        ,  0.85174329],\n",
       "       [25.        ,  0.90511531],\n",
       "       [26.        ,  0.93600391],\n",
       "       [27.        ,  0.88874301],\n",
       "       [28.        ,  0.90290518],\n",
       "       [29.        ,  0.90693784],\n",
       "       [30.        ,  0.9025927 ],\n",
       "       [31.        ,  0.92974899],\n",
       "       [32.        ,  0.85087108],\n",
       "       [33.        ,  0.82908172],\n",
       "       [34.        ,  0.89106373],\n",
       "       [35.        ,  0.94042913],\n",
       "       [36.        ,  0.69829513],\n",
       "       [39.        ,  0.87896355],\n",
       "       [40.        ,  0.77537783],\n",
       "       [41.        ,  0.78290616],\n",
       "       [42.        ,  0.92202431],\n",
       "       [43.        ,  0.84310231],\n",
       "       [44.        ,  0.92938425],\n",
       "       [45.        ,  0.92898783],\n",
       "       [46.        ,  0.82108614],\n",
       "       [47.        ,  0.86125776],\n",
       "       [48.        ,  0.79507422],\n",
       "       [49.        ,  0.78254472],\n",
       "       [50.        ,  0.68780422],\n",
       "       [51.        ,  0.86779993],\n",
       "       [52.        ,  0.79309931],\n",
       "       [53.        ,  0.32498622],\n",
       "       [54.        ,  0.78153542],\n",
       "       [55.        ,  0.8862463 ],\n",
       "       [56.        ,  0.91438879],\n",
       "       [57.        ,  0.8844954 ],\n",
       "       [58.        ,  0.87675922],\n",
       "       [59.        ,  0.5922062 ],\n",
       "       [60.        ,  0.89806272],\n",
       "       [61.        ,  0.85640813],\n",
       "       [62.        ,  0.70569607],\n",
       "       [63.        ,  0.74471193],\n",
       "       [64.        ,  0.90904853],\n",
       "       [65.        ,  0.61711028],\n",
       "       [66.        ,  0.89385083],\n",
       "       [67.        ,  0.87271868],\n",
       "       [68.        ,  0.93747106],\n",
       "       [69.        ,  0.88737613],\n",
       "       [70.        ,  0.90799834],\n",
       "       [71.        ,  0.80970513],\n",
       "       [72.        ,  0.63048944]])"
      ]
     },
     "execution_count": 49,
     "metadata": {},
     "output_type": "execute_result"
    }
   ],
   "source": [
    "np.stack([valid_resnum, s2[:, 1]], 1)"
   ]
  },
  {
   "cell_type": "code",
   "execution_count": 43,
   "metadata": {},
   "outputs": [
    {
     "data": {
      "text/plain": [
       "((999,),)"
      ]
     },
     "execution_count": 43,
     "metadata": {},
     "output_type": "execute_result"
    }
   ],
   "source": [
    "timestep.shape, "
   ]
  },
  {
   "cell_type": "code",
   "execution_count": 44,
   "metadata": {},
   "outputs": [
    {
     "data": {
      "text/plain": [
       "<matplotlib.collections.PathCollection at 0x1554f4082550>"
      ]
     },
     "execution_count": 44,
     "metadata": {},
     "output_type": "execute_result"
    },
    {
     "data": {
      "image/png": "[encoded data removed]",
      "text/plain": [
       "<Figure size 432x288 with 1 Axes>"
      ]
     },
     "metadata": {
      "needs_background": "light"
     },
     "output_type": "display_data"
    }
   ],
   "source": [
    "end_time = 1000\n",
    "time_range = np.arange(0, end_time, 0.01)\n",
    "resnum = 2\n",
    "plt.plot(time_range, original_ls_cf(time_range, *s2[resnum]), 'g--')\n",
    "plt.scatter(timestep[:end_time], c_t[:end_time, resnum])"
   ]
  },
  {
   "cell_type": "markdown",
   "metadata": {},
   "source": [
    "## Compare with DE Shaw result"
   ]
  },
  {
   "cell_type": "code",
   "execution_count": 50,
   "metadata": {},
   "outputs": [],
   "source": [
    "import pandas as pd"
   ]
  },
  {
   "cell_type": "code",
   "execution_count": 88,
   "metadata": {},
   "outputs": [],
   "source": [
    "deshaw_data = pd.read_csv(\"../data/deshaw_data.txt\", delim_whitespace=True, header=None)"
   ]
  },
  {
   "cell_type": "code",
   "execution_count": 94,
   "metadata": {},
   "outputs": [],
   "source": [
    "s2_data = np.stack([valid_resnum, s2[:, 1]], 1)\n",
    "common_res = [i for i in valid_resnum if i in deshaw_data[0].values]\n",
    "s2_common_res = s2_data[s2_data[:, 0]==common_res][:, 1]\n",
    "deshaw_s2_common_res = deshaw_data.loc[deshaw_data[0].isin(common_res)][1].values"
   ]
  },
  {
   "cell_type": "code",
   "execution_count": 95,
   "metadata": {},
   "outputs": [
    {
     "data": {
      "text/plain": [
       "((68,), (68,))"
      ]
     },
     "execution_count": 95,
     "metadata": {},
     "output_type": "execute_result"
    }
   ],
   "source": [
    "s2_common_res.shape, deshaw_s2_common_res.shape"
   ]
  },
  {
   "cell_type": "code",
   "execution_count": 96,
   "metadata": {},
   "outputs": [
    {
     "data": {
      "text/plain": [
       "<matplotlib.collections.PathCollection at 0x1554b0545220>"
      ]
     },
     "execution_count": 96,
     "metadata": {},
     "output_type": "execute_result"
    },
    {
     "data": {
      "image/png": "[encoded data removed]",
      "text/plain": [
       "<Figure size 432x288 with 1 Axes>"
      ]
     },
     "metadata": {
      "needs_background": "light"
     },
     "output_type": "display_data"
    }
   ],
   "source": [
    "plt.scatter(s2_common_res, deshaw_s2_common_res)"
   ]
  }
 ],
 "metadata": {
  "kernelspec": {
   "display_name": "Python 3",
   "language": "python",
   "name": "python3"
  },
  "language_info": {
   "codemirror_mode": {
    "name": "ipython",
    "version": 3
   },
   "file_extension": ".py",
   "mimetype": "text/x-python",
   "name": "python",
   "nbconvert_exporter": "python",
   "pygments_lexer": "ipython3",
   "version": "3.11.4"
  }
 },
 "nbformat": 4,
 "nbformat_minor": 5
}
