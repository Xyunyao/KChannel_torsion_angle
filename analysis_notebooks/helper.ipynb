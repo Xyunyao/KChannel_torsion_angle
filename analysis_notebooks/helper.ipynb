{
 "cells": [
  {
   "cell_type": "markdown",
   "id": "b84a72a8",
   "metadata": {},
   "source": [
    "# Helper Function Notebook\n",
    "\n",
    "This is a notebook to write helper functions.  \n",
    "Using nmr_py310 kernel"
   ]
  },
  {
   "cell_type": "markdown",
   "id": "c6b9abf8",
   "metadata": {},
   "source": [
    "## Matrix2SpHa\n",
    "Function to decompose 3*3 tensor matrix into 1*9 vector with Spherical harmonic components"
   ]
  },
  {
   "cell_type": "code",
   "execution_count": 1,
   "id": "105b6552",
   "metadata": {},
   "outputs": [
    {
     "name": "stdout",
     "output_type": "stream",
     "text": [
      "⎡                           M₁₁   M₂₂   M₃₃                            ⎤\n",
      "⎢                           ─── + ─── + ───                            ⎥\n",
      "⎢                            3     3     3                             ⎥\n",
      "⎢                                                                      ⎥\n",
      "⎢                0.5⋅M₁₃ - 0.5⋅M₃₁ + 0.5⋅ⅈ⋅(-M₂₃ + M₃₂)                ⎥\n",
      "⎢                                                                      ⎥\n",
      "⎢                          -√2⋅ⅈ⋅(M₁₂ - M₂₁)                           ⎥\n",
      "⎢                          ──────────────────                          ⎥\n",
      "⎢                                  2                                   ⎥\n",
      "⎢                                                                      ⎥\n",
      "⎢                0.5⋅M₁₃ - 0.5⋅M₃₁ - 0.5⋅ⅈ⋅(-M₂₃ + M₃₂)                ⎥\n",
      "⎢                                                                      ⎥\n",
      "⎢                0.5⋅M₁₁ - 0.5⋅M₂₂ - 0.5⋅ⅈ⋅(M₁₂ + M₂₁)                 ⎥\n",
      "⎢                                                                      ⎥\n",
      "⎢                -0.5⋅M₁₃ - 0.5⋅M₃₁ + 0.5⋅ⅈ⋅(M₂₃ + M₃₂)                ⎥\n",
      "⎢                                                                      ⎥\n",
      "⎢-0.408248290463863⋅M₁₁ - 0.408248290463863⋅M₂₂ + 0.816496580927726⋅M₃₃⎥\n",
      "⎢                                                                      ⎥\n",
      "⎢                0.5⋅M₁₃ + 0.5⋅M₃₁ + 0.5⋅ⅈ⋅(M₂₃ + M₃₂)                 ⎥\n",
      "⎢                                                                      ⎥\n",
      "⎣                0.5⋅M₁₁ - 0.5⋅M₂₂ + 0.5⋅ⅈ⋅(M₁₂ + M₂₁)                 ⎦\n"
     ]
    }
   ],
   "source": [
    "import sympy as sp\n",
    "\n",
    "# Define symbolic matrix elements (real)\n",
    "M = sp.Matrix(3, 3, lambda i, j: sp.Symbol(f'M{i+1}{j+1}', real=True))\n",
    "\n",
    "# Define i\n",
    "i = sp.I\n",
    "\n",
    "# Define spherical tensor components\n",
    "S = {}\n",
    "\n",
    "# l=0, m=0 (scalar)\n",
    "S[(0,0)] = (M[0,0] + M[1,1] + M[2,2]) / 3\n",
    "\n",
    "# l=1 (antisymmetric part)\n",
    "S[(1,-1)] = -1/2 * ((M[2,0] - M[0,2]) - i * (M[2,1] - M[1,2]))\n",
    "S[(1,0)]  = -i / sp.sqrt(2) * (M[0,1] - M[1,0])\n",
    "S[(1,1)]  = -1/2 * ((M[2,0] - M[0,2]) + i * (M[2,1] - M[1,2]))\n",
    "\n",
    "# l=2 (symmetric traceless part)\n",
    "S[(2,-2)] = 1/2 * ((M[0,0] - M[1,1]) - i * (M[0,1] + M[1,0]))\n",
    "S[(2,-1)] = -1/2 * ((M[2,0] + M[0,2]) - i * (M[2,1] + M[1,2]))\n",
    "S[(2,0)]  = sp.sqrt(3/2) * (M[2,2] - S[(0,0)])\n",
    "S[(2,1)]  = 1/2 * ((M[2,0] + M[0,2]) + i * (M[2,1] + M[1,2]))\n",
    "S[(2,2)]  = 1/2 * ((M[0,0] - M[1,1]) + i * (M[0,1] + M[1,0]))\n",
    "\n",
    "# Put into vector form\n",
    "S_vector = sp.Matrix([S[(0,0)],\n",
    "                      S[(1,-1)], S[(1,0)], S[(1,1)],\n",
    "                      S[(2,-2)], S[(2,-1)], S[(2,0)], S[(2,1)], S[(2,2)]])\n",
    "\n",
    "# Display symbolically\n",
    "sp.pprint(S_vector)\n"
   ]
  },
  {
   "cell_type": "code",
   "execution_count": 2,
   "id": "d74b8cbe",
   "metadata": {},
   "outputs": [
    {
     "name": "stdout",
     "output_type": "stream",
     "text": [
      "Spherical Harmonic Components:\n",
      "[ 0.        +0.j -0.        +0.j  0.        -0.j -0.        +0.j\n",
      "  0.        +0.j -0.        +0.j -2.44948974+0.j  0.        +0.j\n",
      "  0.        +0.j]\n"
     ]
    }
   ],
   "source": [
    "from typing import Dict, Tuple\n",
    "import numpy as np\n",
    "def Matrix2SpHa(M):\n",
    "    \"\"\"\n",
    "    Decomposes a 3x3 tensor matrix into a vector of spherical harmonic components.\n",
    "    \n",
    "    Parameters:\n",
    "    M (np.ndarray): A 3x3 tensor matrix.\n",
    "    \n",
    "    Returns:\n",
    "    np.ndarray: A vector of spherical harmonic components.\n",
    "    \"\"\"\n",
    "    S = {}\n",
    "    \n",
    "    # l=0, m=0 (scalar)\n",
    "    S[(0,0)] = (M[0,0] + M[1,1] + M[2,2]) / 3\n",
    "    \n",
    "    # l=1 (antisymmetric part)\n",
    "    S[(1,-1)] = -1/2 * ((M[2,0] - M[0,2]) - 1j * (M[2,1] - M[1,2]))\n",
    "    S[(1,0)]  = -1j / np.sqrt(2) * (M[0,1] - M[1,0])\n",
    "    S[(1,1)]  = -1/2 * ((M[2,0] - M[0,2]) + 1j * (M[2,1] - M[1,2]))\n",
    "    \n",
    "    # l=2 (symmetric traceless part)\n",
    "    S[(2,-2)] = 1/2 * ((M[0,0] - M[1,1]) - 1j * (M[0,1] + M[1,0]))\n",
    "    S[(2,-1)] = -1/2 * ((M[2,0] + M[0,2]) - 1j * (M[2,1] + M[1,2]))\n",
    "    S[(2,0)]  = np.sqrt(3/2) * (M[2,2] - S[(0,0)])\n",
    "    S[(2,1)]  = 1/2 * ((M[2,0] + M[0,2]) + 1j * (M[2,1] + M[1,2]))\n",
    "    S[(2,2)]  = 1/2 * ((M[0,0] - M[1,1]) + 1j * (M[0,1] + M[1,0]))\n",
    "    \n",
    "    # Put into vector form\n",
    "    return np.array([S[(0,0)],\n",
    "                     S[(1,-1)],\n",
    "                        S[(1,0)], S[(1,1)], \n",
    "                        S[(2,-2)], S[(2,-1)], S[(2,0)], S[(2,1)], S[(2,2)]])\n",
    "\n",
    "# Example usage\n",
    "import numpy as np\n",
    "# dipolar interaction when axis is along z\n",
    "M= np.array([[1, 0, 0],\n",
    "                      [0, 1, 0],\n",
    "                      [0, 0, -2]])\n",
    "\n",
    "S_vector = Matrix2SpHa(M)\n",
    "print(\"Spherical Harmonic Components:\")\n",
    "print(S_vector)\n"
   ]
  }
 ],
 "metadata": {
  "kernelspec": {
   "display_name": "nmr_py310",
   "language": "python",
   "name": "python3"
  },
  "language_info": {
   "codemirror_mode": {
    "name": "ipython",
    "version": 3
   },
   "file_extension": ".py",
   "mimetype": "text/x-python",
   "name": "python",
   "nbconvert_exporter": "python",
   "pygments_lexer": "ipython3",
   "version": "3.8.19"
  }
 },
 "nbformat": 4,
 "nbformat_minor": 5
}
