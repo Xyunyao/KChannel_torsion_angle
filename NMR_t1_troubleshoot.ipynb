{
 "cells": [
  {
   "cell_type": "code",
   "execution_count": 19,
   "metadata": {},
   "outputs": [],
   "source": [
    "#load data (euler angle of Co CSA)\n",
    "\n",
    "import numpy as np\n",
    "data = np.load(\"kcsa_5us_sigma_orientations.npz\", allow_pickle=True)\n",
    "sigma_33_dict = data['sigma_33'].item()  # Use `.item()` to extract the dictionary\n",
    "sigma_22_dict = data['sigma_22'].item()\n",
    "sigma_11_dict = data['sigma_11'].item()\n"
   ]
  },
  {
   "cell_type": "code",
   "execution_count": 22,
   "metadata": {},
   "outputs": [
    {
     "name": "stdout",
     "output_type": "stream",
     "text": [
      "(40001, 7, 3)\n"
     ]
    }
   ],
   "source": [
    "print(sigma_22_dict['A'].shape)"
   ]
  },
  {
   "cell_type": "code",
   "execution_count": 39,
   "metadata": {},
   "outputs": [
    {
     "data": {
      "text/plain": [
       "array([ 0.82111233,  0.54017395, -0.18435496], dtype=float32)"
      ]
     },
     "execution_count": 39,
     "metadata": {},
     "output_type": "execute_result"
    }
   ],
   "source": [
    "sigma_22_dict['A'][0,0,:]"
   ]
  },
  {
   "cell_type": "code",
   "execution_count": null,
   "metadata": {},
   "outputs": [],
   "source": [
    "# the CO bond vector is thes ame os sigma_22_dict\n",
    "# let's calculate the V76 CO order parameter\n",
    "import numpy as np\n",
    "import matplotlib.pyplot as plt\n",
    "\n",
    "\n",
    "def c_int_2(bond_vec):\n",
    "    tot_timesteps = bond_vec.shape[0]\n",
    "    xx = 0\n",
    "    yy = 0\n",
    "    zz = 0\n",
    "    xy = 0\n",
    "    xz = 0\n",
    "    yz = 0\n",
    "    for timestep in range(tot_timesteps):\n",
    "        a = bond_vec[timestep] # (N, 3)        \n",
    "        xx += a[:, 0]*a[:, 0]\n",
    "        yy += a[:, 1]*a[:, 1]\n",
    "        zz += a[:, 2]*a[:, 2]\n",
    "        xy += a[:, 0]*a[:, 1]\n",
    "        xz += a[:, 0]*a[:, 2]\n",
    "        yz += a[:, 1]*a[:, 2]\n",
    "    \n",
    "    xx = (xx/tot_timesteps)**2\n",
    "    yy = (yy/tot_timesteps)**2\n",
    "    zz = (zz/tot_timesteps)**2\n",
    "    xy = (xy/tot_timesteps)**2\n",
    "    xz = (xz/tot_timesteps)**2\n",
    "    yz = (yz/tot_timesteps)**2\n",
    "    \n",
    "    return 1.5*(xx + yy + zz + 2*xy + 2*xz + 2*yz)-0.5\n",
    "\n",
    "time = range(sigma_22_dict['A'].shape[0])\n",
    "bond_vector = sigma_22_dict['A']\n",
    "\n",
    "%matplotlib inline\n",
    "\n",
    "# Plot\n",
    "plt.figure(figsize=(8, 6))\n",
    "plt.plot(frequencies, dft_spectral_density, label=\"DFT Spectral Density\")\n",
    "#plt.plot(frequencies, classical_spectral, label=\"Classical Spectral Density\", linestyle=\"--\")\n",
    "plt.xlabel(\"Time (ns)\")\n",
    "plt.ylabel(\"bone vector\")\n",
    "plt.legend()\n",
    "plt.grid()\n",
    "plt.show()"
   ]
  },
  {
   "cell_type": "code",
   "execution_count": 7,
   "metadata": {},
   "outputs": [
    {
     "name": "stdout",
     "output_type": "stream",
     "text": [
      "(40001, 7, 3)\n"
     ]
    }
   ],
   "source": [
    "# singma_22_dict is the beta angle (distribution of beta angle)\n",
    "# let's visualize the beta angle first\n",
    "# calculate order parameters second\n",
    "\n",
    "\n",
    "from scipy.spatial.transform import Rotation as R\n",
    "import numpy as np\n",
    "\n",
    "def calculate_euler_angles(ori_t, convention='ZYZ'):\n",
    "    \"\"\"\n",
    "    Calculate Euler angles from orientation matrices.\n",
    "\n",
    "    Parameters:\n",
    "        ori_t (np.ndarray): Orientation matrices, shape (num_frames, num_residues, 3, 3).\n",
    "        convention (str): Euler angle convention, e.g., 'ZYX', 'ZXZ', etc.\n",
    "\n",
    "    Returns:\n",
    "        np.ndarray: Euler angles, shape (num_frames, num_residues, 3) for yaw, pitch, roll.\n",
    "    \"\"\"\n",
    "    num_frames, num_residues = ori_t.shape[:2]\n",
    "    euler_angles = np.zeros((num_frames, num_residues, 3))\n",
    "    \n",
    "    for frame in range(num_frames):\n",
    "        for residue in range(num_residues):\n",
    "            # Extract the 3x3 rotation matrix for this frame and residue\n",
    "            rotation_matrix = ori_t[frame, residue]\n",
    "            # Convert to Euler angles\n",
    "            euler_angles[frame, residue] = R.from_matrix(rotation_matrix).as_euler(convention, degrees=True)\n",
    "    \n",
    "    return euler_angles\n",
    "\n",
    "ori_t={}\n",
    "for chain in ['A', 'B', 'C', 'D']:\n",
    "    # Stack the sigma arrays along the last axis\n",
    "    ori_t[chain] = np.stack(\n",
    "        (sigma_33_dict[chain], sigma_22_dict[chain], sigma_11_dict[chain]),\n",
    "        axis=-1\n",
    "    )  # frame, resi_num, 3, 3\n",
    "    \n",
    "euler_angles = calculate_euler_angles(ori_t['A'], convention='ZYZ')\n",
    "\n",
    "print(euler_angles.shape)"
   ]
  },
  {
   "cell_type": "code",
   "execution_count": 23,
   "metadata": {},
   "outputs": [
    {
     "data": {
      "text/plain": [
       "[<matplotlib.lines.Line2D at 0x13660afd0>]"
      ]
     },
     "execution_count": 23,
     "metadata": {},
     "output_type": "execute_result"
    },
    {
     "data": {
      "image/png": "[encoded data removed]",
      "text/plain": [
       "<Figure size 640x480 with 1 Axes>"
      ]
     },
     "metadata": {},
     "output_type": "display_data"
    }
   ],
   "source": [
    "# plot beta angle \n",
    "import matplotlib.pyplot as plt\n",
    "\n",
    "%matplotlib inline\n",
    "\n",
    "plt.plot(range(euler_angles.shape[0]), euler_angles[:,2,1])"
   ]
  },
  {
   "cell_type": "code",
   "execution_count": 25,
   "metadata": {},
   "outputs": [
    {
     "data": {
      "text/plain": [
       "[<matplotlib.lines.Line2D at 0x136bc9190>]"
      ]
     },
     "execution_count": 25,
     "metadata": {},
     "output_type": "execute_result"
    },
    {
     "data": {
      "image/png": "[encoded data removed]",
      "text/plain": [
       "<Figure size 640x480 with 1 Axes>"
      ]
     },
     "metadata": {},
     "output_type": "display_data"
    }
   ],
   "source": [
    "# plote Y2,0 \n",
    "\n",
    "Y2_0 = 1/2*(3*np.cos(euler_angles[:,2,1]/180*np.pi)**2-1)\n",
    "\n",
    "plt.plot(range(euler_angles.shape[0]), Y2_0)\n"
   ]
  },
  {
   "cell_type": "code",
   "execution_count": 44,
   "metadata": {},
   "outputs": [
    {
     "name": "stdout",
     "output_type": "stream",
     "text": [
      "0.7723275928055241\n"
     ]
    },
    {
     "data": {
      "text/plain": [
       "0.024383681922457705"
      ]
     },
     "execution_count": 44,
     "metadata": {},
     "output_type": "execute_result"
    }
   ],
   "source": [
    "print(np.mean(Y2_0))\n",
    "np.var(Y2_0)"
   ]
  },
  {
   "cell_type": "code",
   "execution_count": 74,
   "metadata": {},
   "outputs": [],
   "source": [
    "import numpy as np\n",
    "import matplotlib.pyplot as plt\n",
    "%matplotlib inline\n",
    "\n",
    "\n",
    "def autocorrelation_sphere20(euler_angles, chain):\n",
    "    \"\"\"\n",
    "    Calculate the autocorrelation function for the Y2,0 component of CSA interactions,\n",
    "    computed individually for each residue.\n",
    "\n",
    "    Parameters:\n",
    "    -----------\n",
    "    euler_angles : dict\n",
    "        Dictionary with chain IDs as keys and 3D numpy arrays as values.\n",
    "        Each array has shape (num_frames, num_residues, 3), where the last\n",
    "        dimension contains [yaw, pitch, roll] angles in degrees.\n",
    "    chain : str\n",
    "        Chain ID to process (e.g., 'A', 'B', etc.).\n",
    "\n",
    "    Returns:\n",
    "    --------\n",
    "    acf : numpy.ndarray\n",
    "        Autocorrelation function for the Y2,0 component, with shape (num_frames - 1, num_residues).\n",
    "    \"\"\"\n",
    "    if chain not in euler_angles:\n",
    "        raise ValueError(f\"Chain '{chain}' not found in euler_angles.\")\n",
    "\n",
    "    # Extract pitch angle (beta) and calculate Y2,0 component\n",
    "    beta = np.radians(euler_angles[chain][:, :, 1])  # Convert to radians\n",
    "    cos_beta = np.cos(beta)  # Cosine of beta\n",
    "    cos2 = cos_beta**2  # Squared cosine of beta\n",
    "    A = (3 * cos2 - 1) / 2.0  # Y2,0 CSA interaction, shape: (num_frames, num_residues)\n",
    "\n",
    "    # Calculate mean over frames for each residue\n",
    "    A_mean = np.mean(A, axis=0, keepdims=True)  # Shape: (1, num_residues)\n",
    "\n",
    "    # Number of frames and residues\n",
    "    num_frames, num_residues = A.shape\n",
    "\n",
    "    # Preallocate autocorrelation array\n",
    "    acf = np.zeros((num_frames , num_residues))\n",
    "\n",
    "    # Calculate ACF\n",
    "#     for k in range(1, num_frames):  # Skip k=0 (full overlap)\n",
    "#         # Mean-subtracted product for each residue\n",
    "#         overlap = num_frames - k  # Overlapping frames\n",
    "#         acf[k - 1] = np.sum(\n",
    "#             (A[:-k] - A_mean) * (A[k:] - A_mean), axis=0\n",
    "#         ) / overlap\n",
    "\n",
    "        # Handle k = 0 separately\n",
    "    acf[0] = np.ones(num_residues) \n",
    "        \n",
    "    for k in range(1, num_frames):  # Skip k=0 (full overlap)\n",
    "    # Mean-subtracted product for each residue\n",
    "        overlap = num_frames - k  # Overlapping frames\n",
    "        acf[k] = np.sum(\n",
    "            (A[:-k] - A_mean) * (A[k:] - A_mean), axis=0\n",
    "        ) / overlap\n",
    "\n",
    "\n",
    "    # Normalize by variance for each residue\n",
    "    epsilon = 1e-10  # Small value to avoid numerical instability\n",
    "    variance = np.var(A, axis=0, keepdims=True) + epsilon  # Variance with added epsilon\n",
    "    \n",
    "    # Shape: (1, num_residues)\n",
    "    acf /= variance\n",
    "\n",
    "    return acf"
   ]
  },
  {
   "cell_type": "code",
   "execution_count": 75,
   "metadata": {},
   "outputs": [],
   "source": [
    "# autocorrealtion function\n",
    "acf = autocorrelation_sphere20(sigma_22_dict,'A')\n"
   ]
  },
  {
   "cell_type": "code",
   "execution_count": 73,
   "metadata": {},
   "outputs": [
    {
     "data": {
      "text/plain": [
       "[<matplotlib.lines.Line2D at 0x13843a850>]"
      ]
     },
     "execution_count": 73,
     "metadata": {},
     "output_type": "execute_result"
    },
    {
     "data": {
      "image/png": "[encoded data removed]",
      "text/plain": [
       "<Figure size 640x480 with 1 Axes>"
      ]
     },
     "metadata": {},
     "output_type": "display_data"
    }
   ],
   "source": [
    "plt.plot(range(acf.shape[0]), acf[:,3])"
   ]
  },
  {
   "cell_type": "code",
   "execution_count": 13,
   "metadata": {},
   "outputs": [],
   "source": [
    "# calcualte S2\n",
    "\n",
    "import numpy as np\n",
    "\n",
    "def order_parameter(angle):\n",
    "    \"\"\"\n",
    "    Calculate the order parameter (S²) from an array of angles.\n",
    "\n",
    "    Parameters:\n",
    "    -----------\n",
    "    angle : numpy.ndarray\n",
    "        Array of angles (in radians) with shape (num_frames, num_residues) \n",
    "        or a 1D array for a single residue across frames.\n",
    "\n",
    "    Returns:\n",
    "    --------\n",
    "    S_square : numpy.ndarray\n",
    "        Array of order parameters (S²) with shape (num_residues) or a scalar \n",
    "        if input is 1D.\n",
    "    \"\"\"\n",
    "    # Input validation\n",
    "    if not isinstance(angle, np.ndarray):\n",
    "        raise TypeError(\"Input 'angle' must be a numpy array.\")\n",
    "    if np.any((angle < 0) | (angle > 2 * np.pi)):\n",
    "        raise ValueError(\"Input angles should be in radians (0 to 2π).\")\n",
    "    \n",
    "    # Perform calculation (vectorized)\n",
    "    cos_squared = np.cos(angle) ** 2\n",
    "    S_square = 0.5 * np.sum(3 * cos_squared - 1, axis=0) / angle.shape[0]\n",
    "\n",
    "    return S_square\n",
    "\n",
    "S_square =order_parameter(euler_angles[:,:,1]/180*np.pi)"
   ]
  },
  {
   "cell_type": "code",
   "execution_count": 18,
   "metadata": {},
   "outputs": [
    {
     "data": {
      "text/plain": [
       "<BarContainer object of 7 artists>"
      ]
     },
     "execution_count": 18,
     "metadata": {},
     "output_type": "execute_result"
    },
    {
     "data": {
      "image/png": "[encoded data removed]",
      "text/plain": [
       "<Figure size 640x480 with 1 Axes>"
      ]
     },
     "metadata": {},
     "output_type": "display_data"
    }
   ],
   "source": [
    "#plt.plot(range(euler_angles.shape[0]), S_square[:,2])\n",
    "#print(S_square.shape)\n",
    "plt.bar(range(7), S_square)"
   ]
  },
  {
   "cell_type": "code",
   "execution_count": null,
   "metadata": {},
   "outputs": [],
   "source": [
    "time = KcsA_analyzer[0].data['time_ps'].to_numpy()\n",
    "chain = 'A'\n",
    "residue = 76\n",
    "psi = KcsA_analyzer[0].data[f'{chain}:{residue}-psi'].to_numpy()\n",
    "psi_cos= np.cos(psi/180*np.pi)\n",
    "psi_sin= np.sin(psi/180*np.pi)\n",
    "p20= 1/2 * (3*np.cos(psi/180*np.pi)**2 - 1)\n",
    "p10= 2*np.cos(psi/180*np.pi)**2 - 1\n",
    "fig, (ax1,ax2,ax3,ax4) = plt.subplots(4, 1, sharex=True, figsize=(8, 6))\n",
    "ax1.plot(time, psi_cos, label=f'{chain}:{residue}-psi_cos', color='blue')\n",
    "ax2.plot(time, psi_sin, label=f'{chain}:{residue}-psi_sin', color='red')\n",
    "ax3.plot(time, psi, label=f'{chain}:{residue}-psi', color='red')\n",
    "ax4.plot(time, p10, label=f'{chain}:{residue}-p10', color='red')"
   ]
  }
 ],
 "metadata": {
  "kernelspec": {
   "display_name": "Python 3",
   "language": "python",
   "name": "python3"
  },
  "language_info": {
   "codemirror_mode": {
    "name": "ipython",
    "version": 3
   },
   "file_extension": ".py",
   "mimetype": "text/x-python",
   "name": "python",
   "nbconvert_exporter": "python",
   "pygments_lexer": "ipython3",
   "version": "3.11.4"
  }
 },
 "nbformat": 4,
 "nbformat_minor": 4
}
