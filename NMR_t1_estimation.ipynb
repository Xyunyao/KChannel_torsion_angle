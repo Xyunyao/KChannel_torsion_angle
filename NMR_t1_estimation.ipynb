{
 "cells": [
  {
   "cell_type": "code",
   "execution_count": 53,
   "metadata": {},
   "outputs": [
    {
     "name": "stderr",
     "output_type": "stream",
     "text": [
      "<ipython-input-53-170f02b6059b>:90: UserWarning: Pandas requires version '1.4.3' or newer of 'xlsxwriter' (version '1.3.9' currently installed).\n",
      "  df.to_excel(output_file, index=False)\n"
     ]
    },
    {
     "name": "stdout",
     "output_type": "stream",
     "text": [
      "Orientation data saved to orientation_vectors.xlsx\n"
     ]
    }
   ],
   "source": [
    "from schrodinger.application.desmond.packages import traj_util, traj, topo\n",
    "#from schrodinger.application.desmond.packages import traj_util, traj, topo\n",
    "import numpy as np\n",
    "import pandas as pd\n",
    "\n",
    "import os\n",
    "cms_path = os.path.expanduser('~/Dropbox/KcsA/kcsa_5000ns_1218/kcsa_deactivated_5us_centered-out.cms')\n",
    "traj_path = os.path.expanduser('~/Dropbox/KcsA/kcsa_5000ns_1218/kcsa_deactivated_5us_centered_trj')\n",
    "\n",
    "# Load structure and trajectory (paths to your .cms and .trj files)\n",
    "_, cms_model = topo.read_cms(cms_path)\n",
    "trajectory = traj.read_traj(traj_path)\n",
    "\n",
    "# Select backbone atoms: carbonyl carbon (C), oxygen (O), and amide nitrogen (N)\n",
    "c_aids = cms_model.select_atom(\"chain.name A and res.num 21 and atom.ptype C\")\n",
    "o_aids = cms_model.select_atom(\"chain.name A and res.num 76 and atom.ptype O\")\n",
    "n_aids = cms_model.select_atom(\"chain.name A and res.num 76 and atom.ptype N\")\n",
    "\n",
    "#print(c_aids)\n",
    "\n",
    "# Map atom IDs to global IDs for trajectory processing\n",
    "gid_C_list = topo.aids2gids(cms_model, c_aids)\n",
    "gid_O_list = topo.aids2gids(cms_model, o_aids)\n",
    "gid_N_list = topo.aids2gids(cms_model, n_aids)\n",
    "\n",
    "# Ensure the lists are of equal length (one-to-one correspondence)\n",
    "assert len(gid_C_list) == len(gid_O_list) == len(gid_N_list), \"Mismatch in atom selections.\"\n",
    "\n",
    "# Initialize lists to accumulate orientation vectors over time\n",
    "sigma_33_list, sigma_22_list, sigma_11_list = [], [], []\n",
    "\n",
    "# Loop through trajectory frames\n",
    "for frame in trajectory:\n",
    "    # Process each residue (assume one-to-one correspondence of C, O, N per residue)\n",
    "    for gid_C, gid_O, gid_N in zip(gid_C_list, gid_O_list, gid_N_list):\n",
    "        # Extract atomic positions\n",
    "        C = frame.pos(gid_C)\n",
    "        #print(C)\n",
    "        O = frame.pos(gid_O)\n",
    "        #print(O)\n",
    "        N = frame.pos(gid_N)\n",
    "        #print(N)\n",
    "\n",
    "        # Build local molecular frame\n",
    "        vec_CO = O - C\n",
    "        sigma_22 = vec_CO / np.linalg.norm(vec_CO)  # Along CO bond\n",
    "\n",
    "        # Normal vector to peptide plane (C', O, N)\n",
    "        vec_CN = N - C\n",
    "        sigma_33 = np.cross(vec_CO, vec_CN)  # Perpendicular to peptide plane\n",
    "        sigma_33 /= np.linalg.norm(sigma_33)\n",
    "\n",
    "        # Orthogonal axis\n",
    "        sigma_11 = np.cross(sigma_33, sigma_22)  # Orthogonal to sigma_33 and sigma_22\n",
    "        sigma_11 /= np.linalg.norm(sigma_11)\n",
    "\n",
    "        # Append to orientation lists\n",
    "        sigma_33_list.append(sigma_33)\n",
    "        sigma_22_list.append(sigma_22)\n",
    "        sigma_11_list.append(sigma_11)\n",
    "\n",
    "# Post-processing: Save or analyze the accumulated orientation data\n",
    "sigma_33_array = np.array(sigma_33_list)\n",
    "sigma_22_array = np.array(sigma_22_list)\n",
    "sigma_11_array = np.array(sigma_11_list)\n",
    "\n",
    "#print(sigma_33_array.shape)\n",
    "\n",
    "\n",
    "\n",
    "frame_times = np.array([fr.time for fr in trajectory])  # Extract time for each frame in the trajectory\n",
    "\n",
    "# Create a DataFrame\n",
    "df = pd.DataFrame({\n",
    "    'Frame': np.arange(len(frame_times)),  # Frame indices\n",
    "    'Time (ps)': frame_times,             # Trajectory time\n",
    "    'Sigma_33_X': sigma_33_array[:,0],   # X-component of Sigma_33\n",
    "    'Sigma_33_Y': sigma_33_array[:,1],   # Y-component of Sigma_33\n",
    "    'Sigma_33_Z': sigma_33_array[:,2],   # Z-component of Sigma_33\n",
    "    'Sigma_22_X': sigma_22_array[:,0],   # X-component of Sigma_22\n",
    "    'Sigma_22_Y': sigma_22_array[:,1],   # Y-component of Sigma_22\n",
    "    'Sigma_22_Z': sigma_22_array[:,2],   # Z-component of Sigma_22\n",
    "    'Sigma_11_X': sigma_11_array[:,0],   # X-component of Sigma_11\n",
    "    'Sigma_11_Y': sigma_11_array[:,1],   # Y-component of Sigma_11\n",
    "    'Sigma_11_Z': sigma_11_array[:,2],   # Z-component of Sigma_11\n",
    "})\n",
    "\n",
    "# Save the DataFrame to an Excel file\n",
    "output_file = \"orientation_vectors.xlsx\"\n",
    "df.to_excel(output_file, index=False)\n",
    "\n",
    "print(f\"Orientation data saved to {output_file}\")"
   ]
  },
  {
   "cell_type": "code",
   "execution_count": 66,
   "metadata": {},
   "outputs": [
    {
     "name": "stdout",
     "output_type": "stream",
     "text": [
      "[-0.20971954 -0.91157365 -0.35362566]\n",
      "[ 0.7928684   0.05309229 -0.6070757 ]\n",
      "[ 0.57216907 -0.40769428  0.7116235 ]\n",
      "[[-0.20971954 -0.91157365 -0.35362566]\n",
      " [ 0.7928684   0.05309229 -0.6070757 ]\n",
      " [ 0.57216907 -0.40769428  0.7116235 ]]\n"
     ]
    }
   ],
   "source": [
    "# from the local frame, we can calculate the rotation matrix from local frame to lab frame\n",
    "sigma11= 240   #\n",
    "sigma22= 190   # y\n",
    "sigma33= 95\n",
    "\n",
    "csa_principle=[[240,0, 0],[0,190,0],[0,0,95]]\n",
    "#print(sigma_33_array.shape)\n",
    "print(sigma_33_array[0])\n",
    "print(sigma_22_array[0])\n",
    "print(sigma_11_array[0])\n",
    "\n",
    "r_t = np.stack((sigma_33_array,sigma_22_array,sigma_11_array),axis=-1)\n",
    "r_t = np.transpose(r_t, axes=(0, 2, 1))\n",
    "print(r_t[0,:])  # to verify the rotation matrix is right\n",
    "\n",
    "# now calculat sigma(t)\n",
    "\n",
    "sigma_t = np.einsum('nij,jk,nkl->nil', r_t, csa_principle, r_t.transpose(0, 2, 1))"
   ]
  },
  {
   "cell_type": "code",
   "execution_count": 2,
   "metadata": {},
   "outputs": [
    {
     "name": "stdout",
     "output_type": "stream",
     "text": [
      "2\n"
     ]
    }
   ],
   "source": [
    "import numpy as np\n",
    "\n",
    "# Example: use u_z_list from above to build A(t)\n",
    "u_z_arr = np.array(u_z_list)            # shape (Nframes,3)\n",
    "cos2 = u_z_arr[:,2]**2                 # z-component squared\n",
    "A = (3*cos2 - 1) * (Delta_sigma) / 2.0  # CSA interaction sequence\n",
    "\n",
    "# Autocorrelation (unnormalized, one-sided)\n",
    "N = len(A)\n",
    "A_mean = np.mean(A)\n",
    "acf = np.array([np.mean((A[:N-k]-A_mean)*(A[k:]-A_mean)) for k in range(N)])\n"
   ]
  },
  {
   "cell_type": "code",
   "execution_count": null,
   "metadata": {},
   "outputs": [],
   "source": [
    "\n",
    "# Time step (ps) between frames; convert to s if needed for SI units\n",
    "dt = fr.time  # e.g. 0.002 ps per frame or fr.time attribute\n",
    "# Compute FFT of acf (use one-sided convention)\n",
    "J_full = np.real(np.fft.rfft(acf)) * dt\n",
    "freq = np.fft.rfftfreq(N, dt)  # cycles per ps\n",
    "omega = 2*np.pi * freq         # rad per ps\n",
    "\n",
    "gamma13 = 2*np.pi * 10.705e6  # rad/T/s (gyromag ratio 13C)\n",
    "omega0 = gamma13 * B0         # rad/s\n",
    "# Convert anisotropy (ppm) to rad/s: sigma_rad = Delta_sigma_ppm * omega0 * 1e-6\n",
    "sigma_rad = Delta_sigma_ppm * omega0 * 1e-6\n",
    "R1 = (2.0/15.0) * (omega0**2) * (sigma_rad**2) * J_omega0\n",
    "T1 = 1.0 / R1\n"
   ]
  }
 ],
 "metadata": {
  "kernelspec": {
   "display_name": "Python 3",
   "language": "python",
   "name": "python3"
  },
  "language_info": {
   "codemirror_mode": {
    "name": "ipython",
    "version": 3
   },
   "file_extension": ".py",
   "mimetype": "text/x-python",
   "name": "python",
   "nbconvert_exporter": "python",
   "pygments_lexer": "ipython3",
   "version": "3.11.4"
  }
 },
 "nbformat": 4,
 "nbformat_minor": 4
}
