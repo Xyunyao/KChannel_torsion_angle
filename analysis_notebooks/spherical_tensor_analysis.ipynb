{
 "cells": [
  {
   "cell_type": "markdown",
   "id": "6ee92201",
   "metadata": {},
   "source": [
    "# Note\n",
    "The sign in small d matrix is quite confusing; I eventually used (-1)**(k + mp - m) convention instad of (-1)**k convention  \n",
    "The results are consistent with using sympy package\n"
   ]
  },
  {
   "cell_type": "markdown",
   "id": "fb81e542",
   "metadata": {},
   "source": [
    "This Notebook is to generate the theorectical formula of CSA using spherial harmonics representation with differnt orientation \n",
    "\n",
    "The main idea is \n",
    "1. we know how the matrix is like in the principal frame  \n",
    "2. we can use Wigner D matrix to transform to the lab frame (here we choose arbitory orientation, to-do is to sum over a power averge)  \n",
    "3. we know the spin part matrix in lab frame, then we can turn it into SH represenation\n",
    "4. we could use secular approximation to simulate linewdith (to-do)\n",
    "5. we could use these formula for relaxation correlation calculation (to-do)"
   ]
  },
  {
   "cell_type": "code",
   "execution_count": null,
   "id": "884266e1",
   "metadata": {},
   "outputs": [
    {
     "name": "stdout",
     "output_type": "stream",
     "text": [
      "⎡⎛                 ⎛  cos(β)   cos(2⋅β)   3⎞  2⋅ⅈ⋅α   ⎛                        ↪\n",
      "⎢⎜0.5⋅(δₓₓ - δ_yy)⋅⎜- ────── + ──────── + ─⎟⋅ℯ      + ⎜0.306186217847897⋅√6⋅δ⋅ ↪\n",
      "⎢⎝                 ⎝    2         8       8⎠          ⎝                        ↪\n",
      "⎢                                                                              ↪\n",
      "⎢      ⎛                 ⎛sin(β)   sin(2⋅β)⎞  ⅈ⋅α   ⎛                        ⅈ ↪\n",
      "⎢      ⎜0.5⋅(δₓₓ - δ_yy)⋅⎜────── - ────────⎟⋅ℯ    + ⎝0.306186217847897⋅√6⋅δ⋅ℯ  ↪\n",
      "⎢      ⎝                 ⎝  2         4    ⎠                                   ↪\n",
      "⎢                                                                              ↪\n",
      "⎢                    ⎛                         2      ⎛                   ⎛3⋅c ↪\n",
      "⎢                    ⎜0.125⋅√6⋅(δₓₓ - δ_yy)⋅sin (β) + ⎜1.22474487139159⋅δ⋅⎜─── ↪\n",
      "⎢                    ⎝                                ⎝                   ⎝    ↪\n",
      "⎢                                                                              ↪\n",
      "⎢     ⎛                                ⅈ⋅α          ⎛                          ↪\n",
      "⎢     ⎝0.25⋅(δₓₓ - δ_yy)⋅(cos(β) + 1)⋅ℯ   ⋅sin(β) + ⎝-0.306186217847897⋅√6⋅δ⋅s ↪\n",
      "⎢                                                                              ↪\n",
      "⎢⎛                 ⎛cos(β)   cos(2⋅β)   3⎞  2⋅ⅈ⋅α   ⎛                          ↪\n",
      "⎢⎜0.5⋅(δₓₓ - δ_yy)⋅⎜────── + ──────── + ─⎟⋅ℯ      + ⎜0.306186217847897⋅√6⋅δ⋅si ↪\n",
      "⎣⎝                 ⎝  2         8       8⎠          ⎝                          ↪\n",
      "\n",
      "↪  2⋅ⅈ⋅α    2                       ⎛cos(β)   cos(2⋅β)   3⎞  2⋅ⅈ⋅(α + γ)⎞  2⋅ⅈ ↪\n",
      "↪ ℯ     ⋅sin (β) + 0.5⋅(δₓₓ - δ_yy)⋅⎜────── + ──────── + ─⎟⋅ℯ           ⎟⋅ℯ    ↪\n",
      "↪                                   ⎝  2         8       8⎠             ⎠      ↪\n",
      "↪                                                                              ↪\n",
      "↪ ⋅α                                            ⅈ⋅(α + 2⋅γ)       ⎞  2⋅ⅈ⋅γ⎞  - ↪\n",
      "↪   ⋅sin(2⋅β) - 0.25⋅(δₓₓ - δ_yy)⋅(cos(β) + 1)⋅ℯ           ⋅sin(β)⎠⋅ℯ     ⎟⋅ℯ  ↪\n",
      "↪                                                                         ⎠    ↪\n",
      "↪                                                                              ↪\n",
      "↪ os(2⋅β)   1⎞                          2⋅ⅈ⋅γ    2   ⎞  2⋅ⅈ⋅γ⎞  -2⋅ⅈ⋅γ         ↪\n",
      "↪ ─────── + ─⎟ + 0.125⋅√6⋅(δₓₓ - δ_yy)⋅ℯ     ⋅sin (β)⎟⋅ℯ     ⎟⋅ℯ               ↪\n",
      "↪  4        4⎠                                       ⎠       ⎠                 ↪\n",
      "↪                                                                              ↪\n",
      "↪                                           2⋅ⅈ⋅γ       ⎞  ⅈ⋅(α + 2⋅γ)⎞  -2⋅ⅈ⋅ ↪\n",
      "↪ in(2⋅β) + 0.25⋅(δₓₓ - δ_yy)⋅(cos(β) - 1)⋅ℯ     ⋅sin(β)⎠⋅ℯ           ⎠⋅ℯ      ↪\n",
      "↪                                                                              ↪\n",
      "↪  2                       ⎛  cos(β)   cos(2⋅β)   3⎞  2⋅ⅈ⋅γ⎞  2⋅ⅈ⋅(α + γ)⎞  -2 ↪\n",
      "↪ n (β) + 0.5⋅(δₓₓ - δ_yy)⋅⎜- ────── + ──────── + ─⎟⋅ℯ     ⎟⋅ℯ           ⎟⋅ℯ   ↪\n",
      "↪                          ⎝    2         8       8⎠       ⎠             ⎠     ↪\n",
      "\n",
      "↪ ⋅γ⎞  -2⋅ⅈ⋅γ ⎤\n",
      "↪   ⎟⋅ℯ       ⎥\n",
      "↪   ⎠         ⎥\n",
      "↪             ⎥\n",
      "↪ 2⋅ⅈ⋅γ       ⎥\n",
      "↪             ⎥\n",
      "↪             ⎥\n",
      "↪             ⎥\n",
      "↪             ⎥\n",
      "↪             ⎥\n",
      "↪             ⎥\n",
      "↪             ⎥\n",
      "↪ (α + γ)     ⎥\n",
      "↪             ⎥\n",
      "↪             ⎥\n",
      "↪ ⋅ⅈ⋅(2⋅α + γ)⎥\n",
      "↪             ⎥\n",
      "↪             ⎦\n"
     ]
    }
   ],
   "source": [
    "# Here is cell to generate the theoretical formula of CSA using spherical harmonics representation with different orientations\n",
    "import sympy as sp\n",
    "from sympy.physics.quantum.spin import Rotation\n",
    "\n",
    "# Define symbolic variables for Euler angles and tensor coefficients\n",
    "alpha, beta, gamma = sp.symbols('alpha beta gamma', real=True)\n",
    "iso, delta_xx, delta_yy, delta = sp.symbols('iso delta_xx delta_yy delta', real=True)\n",
    "\n",
    "# Define the original coefficients T_{2m}\n",
    "T_2m = {\n",
    "    -2: 0.5 * (delta_xx - delta_yy),\n",
    "    -1: 0,\n",
    "    0: sp.sqrt(3/2) * delta,\n",
    "    1: 0,\n",
    "    2: 0.5 * (delta_xx - delta_yy)\n",
    "}\n",
    "\n",
    "\n",
    "# old code for Wigner d-matrix elements (commented out), now use sympy package\n",
    "# s = sp.sin(beta)\n",
    "# c = sp.cos(beta)\n",
    "# sqrt6= sp.sqrt(6)\n",
    "\n",
    "# Reduced Wigner d-matrix elements for l=2\n",
    "# d_2_corrected = sp.Matrix([\n",
    "#     [0.25*(1 + c)**2,        0.5*s*(1 + c),         sqrt6/4 * s**2,        0.5*s*(1 - c),        0.25*(1 - c)**2],\n",
    "#     [-0.5*s*(1 + c),         c*(1 + c),             sqrt6/2 * s * c,       c*(1 - c),           0.5*s*(1 - c)],\n",
    "#     [sqrt6/4 * s**2,        -sqrt6/2 * s * c,       0.5*(3*c**2 - 1),      sqrt6/2 * s * c,     sqrt6/4 * s**2],\n",
    "#     [0.5*s*(1 + c),          c*(1 + c),            -sqrt6/2 * s * c,       c*(1 - c),          -0.5*s*(1 - c)],\n",
    "#     [0.25*(1 + c)**2,       -0.5*s*(1 + c),         sqrt6/4 * s**2,       -0.5*s*(1 - c),       0.25*(1 - c)**2]\n",
    "# ])\n",
    "\n",
    "# Construct the full Wigner D-matrix for l=2\n",
    "m_values = [-2, -1, 0, 1, 2]\n",
    "D_2 = sp.zeros(5, 5)\n",
    "for i, m1 in enumerate(m_values):\n",
    "    for j, m2 in enumerate(m_values):\n",
    "        D_2[i, j] = sp.exp(-sp.I * m1 * alpha) * Rotation.d(2,m1,m2,beta) * sp.exp(-sp.I * m2 * gamma)\n",
    "\n",
    "# Define the transformation of T_{2m} under the Wigner D-matrix\n",
    "T_transformed = sp.zeros(5, 1)\n",
    "for i, m in enumerate(m_values):\n",
    "    for j, m2 in enumerate(m_values):\n",
    "        T_transformed[i] += D_2[i, j] * T_2m[m2]\n",
    "\n",
    "# Display the transformed tensor coefficients\n",
    "T_transformed_simplified = sp.simplify(T_transformed)\n",
    "sp.pprint(T_transformed_simplified, use_unicode=True)\n"
   ]
  },
  {
   "cell_type": "code",
   "execution_count": 8,
   "id": "95fc4039",
   "metadata": {},
   "outputs": [
    {
     "data": {
      "text/latex": [
       "$\\displaystyle \\left[\\begin{matrix}e^{2 i \\alpha} e^{2 i \\gamma} d^{2}_{-2,-2}\\left(\\beta\\right) & e^{2 i \\alpha} e^{i \\gamma} d^{2}_{-2,-1}\\left(\\beta\\right) & e^{2 i \\alpha} d^{2}_{-2,0}\\left(\\beta\\right) & e^{2 i \\alpha} e^{- i \\gamma} d^{2}_{-2,1}\\left(\\beta\\right) & e^{2 i \\alpha} e^{- 2 i \\gamma} d^{2}_{-2,2}\\left(\\beta\\right)\\\\e^{i \\alpha} e^{2 i \\gamma} d^{2}_{-1,-2}\\left(\\beta\\right) & e^{i \\alpha} e^{i \\gamma} d^{2}_{-1,-1}\\left(\\beta\\right) & e^{i \\alpha} d^{2}_{-1,0}\\left(\\beta\\right) & e^{i \\alpha} e^{- i \\gamma} d^{2}_{-1,1}\\left(\\beta\\right) & e^{i \\alpha} e^{- 2 i \\gamma} d^{2}_{-1,2}\\left(\\beta\\right)\\\\e^{2 i \\gamma} d^{2}_{0,-2}\\left(\\beta\\right) & e^{i \\gamma} d^{2}_{0,-1}\\left(\\beta\\right) & d^{2}_{0,0}\\left(\\beta\\right) & e^{- i \\gamma} d^{2}_{0,1}\\left(\\beta\\right) & e^{- 2 i \\gamma} d^{2}_{0,2}\\left(\\beta\\right)\\\\e^{- i \\alpha} e^{2 i \\gamma} d^{2}_{1,-2}\\left(\\beta\\right) & e^{- i \\alpha} e^{i \\gamma} d^{2}_{1,-1}\\left(\\beta\\right) & e^{- i \\alpha} d^{2}_{1,0}\\left(\\beta\\right) & e^{- i \\alpha} e^{- i \\gamma} d^{2}_{1,1}\\left(\\beta\\right) & e^{- i \\alpha} e^{- 2 i \\gamma} d^{2}_{1,2}\\left(\\beta\\right)\\\\e^{- 2 i \\alpha} e^{2 i \\gamma} d^{2}_{2,-2}\\left(\\beta\\right) & e^{- 2 i \\alpha} e^{i \\gamma} d^{2}_{2,-1}\\left(\\beta\\right) & e^{- 2 i \\alpha} d^{2}_{2,0}\\left(\\beta\\right) & e^{- 2 i \\alpha} e^{- i \\gamma} d^{2}_{2,1}\\left(\\beta\\right) & e^{- 2 i \\alpha} e^{- 2 i \\gamma} d^{2}_{2,2}\\left(\\beta\\right)\\end{matrix}\\right]$"
      ],
      "text/plain": [
       "Matrix([\n",
       "[exp(2*I*alpha)*exp(2*I*gamma)*WignerD(2, -2, -2, 0, beta, 0), exp(2*I*alpha)*exp(I*gamma)*WignerD(2, -2, -1, 0, beta, 0), exp(2*I*alpha)*WignerD(2, -2, 0, 0, beta, 0), exp(2*I*alpha)*exp(-I*gamma)*WignerD(2, -2, 1, 0, beta, 0), exp(2*I*alpha)*exp(-2*I*gamma)*WignerD(2, -2, 2, 0, beta, 0)],\n",
       "[  exp(I*alpha)*exp(2*I*gamma)*WignerD(2, -1, -2, 0, beta, 0),   exp(I*alpha)*exp(I*gamma)*WignerD(2, -1, -1, 0, beta, 0),   exp(I*alpha)*WignerD(2, -1, 0, 0, beta, 0),   exp(I*alpha)*exp(-I*gamma)*WignerD(2, -1, 1, 0, beta, 0),   exp(I*alpha)*exp(-2*I*gamma)*WignerD(2, -1, 2, 0, beta, 0)],\n",
       "[                exp(2*I*gamma)*WignerD(2, 0, -2, 0, beta, 0),                 exp(I*gamma)*WignerD(2, 0, -1, 0, beta, 0),                 WignerD(2, 0, 0, 0, beta, 0),                 exp(-I*gamma)*WignerD(2, 0, 1, 0, beta, 0),                 exp(-2*I*gamma)*WignerD(2, 0, 2, 0, beta, 0)],\n",
       "[  exp(-I*alpha)*exp(2*I*gamma)*WignerD(2, 1, -2, 0, beta, 0),   exp(-I*alpha)*exp(I*gamma)*WignerD(2, 1, -1, 0, beta, 0),   exp(-I*alpha)*WignerD(2, 1, 0, 0, beta, 0),   exp(-I*alpha)*exp(-I*gamma)*WignerD(2, 1, 1, 0, beta, 0),   exp(-I*alpha)*exp(-2*I*gamma)*WignerD(2, 1, 2, 0, beta, 0)],\n",
       "[exp(-2*I*alpha)*exp(2*I*gamma)*WignerD(2, 2, -2, 0, beta, 0), exp(-2*I*alpha)*exp(I*gamma)*WignerD(2, 2, -1, 0, beta, 0), exp(-2*I*alpha)*WignerD(2, 2, 0, 0, beta, 0), exp(-2*I*alpha)*exp(-I*gamma)*WignerD(2, 2, 1, 0, beta, 0), exp(-2*I*alpha)*exp(-2*I*gamma)*WignerD(2, 2, 2, 0, beta, 0)]])"
      ]
     },
     "execution_count": 8,
     "metadata": {},
     "output_type": "execute_result"
    }
   ],
   "source": [
    "D_2"
   ]
  },
  {
   "cell_type": "markdown",
   "id": "721508eb",
   "metadata": {},
   "source": []
  },
  {
   "cell_type": "code",
   "execution_count": 3,
   "id": "dc6fce8f",
   "metadata": {},
   "outputs": [
    {
     "name": "stdout",
     "output_type": "stream",
     "text": [
      "0.0295027919191783\n"
     ]
    }
   ],
   "source": [
    "from sympy.physics.quantum.spin import Rotation\n",
    "d_val = Rotation.d(2,1, -1, 0.2)\n",
    "\n",
    "# Evaluate numerically\n",
    "d_num = d_val.doit().evalf()\n",
    "\n",
    "print(d_num)\n"
   ]
  },
  {
   "cell_type": "code",
   "execution_count": 10,
   "id": "b262932e",
   "metadata": {},
   "outputs": [
    {
     "name": "stdout",
     "output_type": "stream",
     "text": [
      "(5, 5) (5, 5)\n",
      "The Wigner d-matrix D_2 is correct.\n"
     ]
    }
   ],
   "source": [
    "# verify the correctness of the Wigner d-matrix D_2\n",
    "#calculate the numerical values for alpha, beta, gamma\n",
    "import numpy as np\n",
    "import math\n",
    "from math import factorial as fact\n",
    "alpha_val = 0.1  # Example value in radians\n",
    "beta_val = 0.2   # Example value in radians\n",
    "gamma_val = 0.3  # Example value in radians\n",
    "#D_2_numeric = D_2.subs({alpha: alpha_val, beta: beta_val, gamma: gamma_val}).doit().evalf()\n",
    "D_2 = np.zeros((2*2+1, 2*2+1), dtype=complex)\n",
    "for i, mp in enumerate(range(-2, 3)):\n",
    "    for j, m in enumerate(range(-2, 3)):\n",
    "        D_2[i, j]= Rotation.D(2, mp, m, alpha_val,beta_val, gamma_val).doit().evalf()\n",
    "        #D_2[i, j] = np.exp(-1j * mp * alpha_val) * d * np.exp(-1j * m * gamma_val)\n",
    "#D_2_numeric = Rotation.D(2, alpha_val, beta_val, gamma_val).doit().evalf()\n",
    "\n",
    "# Known working Wigner d-matrix for l=2\n",
    "\n",
    "def little_d(l, mp, m, beta):\n",
    "    \"\"\"\n",
    "    Compute small-d matrix element d^l_{mp,m}(beta) using Wikipedia convention \n",
    "    \"\"\"\n",
    "    sum_k = 0\n",
    "    kmin = max(0, m - mp)\n",
    "    kmax = min(l + m, l - mp)\n",
    "\n",
    "    prefactor = np.sqrt(fact(l + mp) * fact(l - mp) * fact(l + m) * fact(l - m))\n",
    "\n",
    "    for k in range(kmin, kmax + 1):\n",
    "        denom = (\n",
    "            fact(l + m - k)\n",
    "            * fact(k)\n",
    "            * fact(l - mp - k)\n",
    "            * fact(k + mp - m)\n",
    "        )\n",
    "        if denom == 0:\n",
    "            continue  # skip undefined terms\n",
    "        term = ((-1)**(k + mp - m)/ denom *\n",
    "                (np.cos(beta / 2) ** (2 * l + m - mp - 2 * k)) *\n",
    "                (np.sin(beta / 2) ** (2 * k + mp - m)))\n",
    "        sum_k += term\n",
    "\n",
    "    return prefactor * sum_k\n",
    "\n",
    "def wigner_d_matrix(l, alpha, beta, gamma):\n",
    "    \"\"\"\n",
    "    Compute Wigner D-matrix D^l_{m', m}(alpha, beta, gamma)\n",
    "    without using scipy.special\n",
    "    \"\"\"\n",
    "    m_vals = np.arange(-l, l+1)\n",
    "    D = np.zeros((2*l+1, 2*l+1), dtype=complex)\n",
    "\n",
    "    # def little_d(l, mp, m, beta):\n",
    "    #     \"\"\"Compute small-d matrix element d^l_{mp,m}(beta)\"\"\"\n",
    "    #     sum_k = 0\n",
    "    #     kmin = max(0, m - mp)\n",
    "    #     kmax = min(l + m, l - mp)\n",
    "    #     for k in range(kmin, kmax + 1):\n",
    "    #         num = ((-1)**k *\n",
    "    #                np.sqrt(fact(l + mp) * fact(l - mp) * fact(l + m) * fact(l - m)))\n",
    "    #         denom = (fact(l + m - k) * fact(l - mp - k) * fact(k) * fact(k + mp - m))\n",
    "    #         term = (num / denom *\n",
    "    #                 (np.cos(beta / 2) ** (2 * l + m - mp - 2 * k)) *\n",
    "    #                 (np.sin(beta / 2) ** (2 * k + mp - m)))\n",
    "    #         sum_k += term\n",
    "    #     return sum_k\n",
    "\n",
    "    \n",
    "\n",
    "    for i, mp in enumerate(m_vals):\n",
    "        for j, m in enumerate(m_vals):\n",
    "            d = little_d(l, mp, m, beta)\n",
    "            D[i, j] = np.exp(-1j * mp * alpha) * d * np.exp(-1j * m * gamma)\n",
    "\n",
    "    return D\n",
    "\n",
    "# Verify the correctness of the Wigner d-matrix D_2\n",
    "D_2_test = wigner_d_matrix(2, alpha_val, beta_val, gamma_val)\n",
    "# Check if the numerical values match\n",
    "D_2_numeric = np.array(D_2)\n",
    "D_2_test = np.array(D_2_test)\n",
    "\n",
    "print(D_2_numeric.shape, D_2_test.shape)\n",
    "#print(np.allclose(D_2_numeric, D_2_test))\n",
    "if np.allclose(D_2_numeric, D_2_test):\n",
    "    print(\"The Wigner d-matrix D_2 is correct.\")\n",
    "else:\n",
    "    print(\"The Wigner d-matrix D_2 is incorrect.\")\n",
    "#print(D_2_test)\n",
    "#print(D_2_numeric)\n"
   ]
  },
  {
   "cell_type": "code",
   "execution_count": 6,
   "id": "365577b6",
   "metadata": {},
   "outputs": [
    {
     "data": {
      "text/plain": [
       "array([[ 6.82888168e-01+7.03127988e-01j,  1.72611057e-01+9.42978501e-02j,\n",
       "         2.36882442e-02+4.80184482e-03j,  1.97018767e-03-1.97678134e-04j,\n",
       "         9.14938975e-05-3.86829994e-05j],\n",
       "       [-1.50436237e-01-1.26710694e-01j,  8.75527226e-01+3.70166974e-01j,\n",
       "         2.37277707e-01+2.38071809e-02j,  2.89147003e-02-5.86129993e-03j,\n",
       "         1.73768352e-03-9.49300834e-04j],\n",
       "       [ 1.99483913e-02+1.36474287e-02j, -2.27818193e-01-7.04724255e-02j,\n",
       "         9.40795746e-01+0.00000000e+00j,  2.27818193e-01-7.04724255e-02j,\n",
       "         1.99483913e-02-1.36474287e-02j],\n",
       "       [-1.73768352e-03-9.49300834e-04j,  2.89147003e-02+5.86129993e-03j,\n",
       "        -2.37277707e-01+2.38071809e-02j,  8.75527226e-01-3.70166974e-01j,\n",
       "         1.50436237e-01-1.26710694e-01j],\n",
       "       [ 9.14938975e-05+3.86829994e-05j, -1.97018767e-03-1.97678134e-04j,\n",
       "         2.36882442e-02-4.80184482e-03j, -1.72611057e-01+9.42978501e-02j,\n",
       "         6.82888168e-01-7.03127988e-01j]])"
      ]
     },
     "execution_count": 6,
     "metadata": {},
     "output_type": "execute_result"
    }
   ],
   "source": [
    "D_2"
   ]
  },
  {
   "cell_type": "code",
   "execution_count": 9,
   "id": "98b93a99",
   "metadata": {},
   "outputs": [
    {
     "name": "stdout",
     "output_type": "stream",
     "text": [
      " ⎛                                ⅈ⋅α   ⎛                                      ↪\n",
      "-⎝0.25⋅(δₓₓ - δ_yy)⋅(cos(β) - 1)⋅ℯ    - ⎝0.612372435695794⋅√6⋅δ⋅cos(β) - 0.25⋅ ↪\n",
      "\n",
      "↪                            2⋅ⅈ⋅γ⎞  ⅈ⋅(α + 2⋅γ)⎞ ⎛                            ↪\n",
      "↪ (δₓₓ - δ_yy)⋅(cos(β) + 1)⋅ℯ     ⎠⋅ℯ           ⎠⋅⎝0.25⋅(δₓₓ - δ_yy)⋅(cos(β) - ↪\n",
      "\n",
      "↪      ⅈ⋅α   ⎛                        ⅈ⋅α                                      ↪\n",
      "↪  1)⋅ℯ    + ⎝0.612372435695794⋅√6⋅δ⋅ℯ   ⋅cos(β) - 0.25⋅(δₓₓ - δ_yy)⋅(cos(β) + ↪\n",
      "\n",
      "↪      ⅈ⋅(α + 2⋅γ)⎞  2⋅ⅈ⋅γ⎞  -2⋅ⅈ⋅(α + 2⋅γ)    2   \n",
      "↪  1)⋅ℯ           ⎠⋅ℯ     ⎠⋅ℯ              ⋅sin (β)\n"
     ]
    }
   ],
   "source": [
    "# calculate the correlation coefficients \n",
    "# multiplication of T_transformed_simplified 2 and 4 is the correlation coefficient\n",
    "correlation_coefficient = T_transformed_simplified[1] * T_transformed_simplified[3]\n",
    "correlation_coefficient_simplified = sp.simplify(correlation_coefficient)\n",
    "sp.pprint(correlation_coefficient_simplified, use_unicode=True)\n"
   ]
  },
  {
   "cell_type": "code",
   "execution_count": 10,
   "id": "e7e7dce3",
   "metadata": {},
   "outputs": [],
   "source": [
    "# write a function to calculate the correlation coefficient to be calcuated numerically\n",
    "import numpy as np\n",
    "def calculate_transformed_tensor_coefficients(alpha_val, beta_val, gamma_val, iso_val, delta_xx_val, delta_yy_val, delta_val):\n",
    "    \"\"\"Calculate the transformed tensor coefficients for given Euler angles and tensor coefficients.\n",
    "    Args:\n",
    "        alpha_val (float): Euler angle alpha.\n",
    "        beta_val (float): Euler angle beta.\n",
    "        gamma_val (float): Euler angle gamma.\n",
    "        iso_val (float): Isotropic part of the tensor.\n",
    "        delta_xx_val (float): Coefficient for xx component.\n",
    "        delta_yy_val (float): Coefficient for yy component.\n",
    "        delta_val (float): Coefficient for zz component.\n",
    "    Returns:\n",
    "        float: The correlation coefficient calculated from the transformed tensor coefficients.\n",
    "    \"\"\"\n",
    "    # write the corelation _coefficient_simplied as a function without using the sympy library\n",
    "    #correlation_coefficient_simplified= \n",
    "\n",
    "    i = 1j\n",
    "    sqrt6 = np.sqrt(6)\n",
    "    \n",
    "    term1 = -0.25 * (d_xx - d_yy) * (np.cos(beta) - 1) * np.exp(i * alpha)\n",
    "    term2 = -(\n",
    "        0.612372435695794 * sqrt6 * delta * np.cos(beta)\n",
    "        - 0.25 * (d_xx - d_yy) * (np.cos(beta) + 1)\n",
    "    ) * np.exp(i * (alpha + 2 * gamma))\n",
    "    \n",
    "    term3 = 0.25 * (d_xx - d_yy) * (np.cos(beta) - 1) * np.exp(i * alpha)\n",
    "    term4 = (\n",
    "        0.612372435695794 * sqrt6 * delta * np.cos(beta)\n",
    "        - 0.25 * (d_xx - d_yy) * (np.cos(beta) + 1)\n",
    "    ) * np.exp(i * alpha)\n",
    "    \n",
    "    term5 = 0.25 * (d_xx - d_yy) * (np.cos(beta) + 1) * np.exp(i * (alpha + 2 * gamma))\n",
    "    term6 = 2 * np.exp(-2 * i * (alpha + 2 * gamma)) * np.sin(beta)**2\n",
    "\n",
    "    result = term1 + term2 + term3 + term4 + term5 + term6\n",
    "    return result\n",
    "\n",
    "\n",
    "    return correlation_coefficient\n",
    "    # Substitute the numerical values into the symbolic expressions\n",
    "    # Substitute the numerical values into the transformed tensor coefficients  \n",
    "    "
   ]
  },
  {
   "cell_type": "code",
   "execution_count": 11,
   "id": "150af3e1",
   "metadata": {},
   "outputs": [
    {
     "name": "stdout",
     "output_type": "stream",
     "text": [
      "True\n"
     ]
    }
   ],
   "source": [
    "# test if delta_xx and delta_yy are equal and gamma is zero\n",
    "test_conditions = sp.simplify(sp.Eq(delta_xx, delta_yy) & sp.Eq(gamma, 0))\n",
    "test_conditions_result = test_conditions.subs({delta_xx: 1, delta_yy: 1, gamma: 0})\n",
    "#sp.pprint(test_conditions, use_unicode=True)\n",
    "test_conditions_result_simplified = sp.simplify(test_conditions_result)\n",
    "sp.pprint(test_conditions_result_simplified, use_unicode=True)"
   ]
  },
  {
   "cell_type": "code",
   "execution_count": 12,
   "id": "66a5d870",
   "metadata": {},
   "outputs": [
    {
     "name": "stdout",
     "output_type": "stream",
     "text": [
      "                        ⅈ⋅α         \n",
      "0.306186217847897⋅√6⋅δ⋅ℯ   ⋅sin(2⋅β)\n"
     ]
    }
   ],
   "source": [
    "T_transformed_simplified[1]\n",
    "# simplify T_transformed_simplified[1] with delata_xx = delta_yy and gamma = 0\n",
    "simplified_T1 = sp.simplify(T_transformed_simplified[1].subs({delta_xx: delta_yy, gamma: 0}))\n",
    "sp.pprint(simplified_T1, use_unicode=True)"
   ]
  },
  {
   "cell_type": "code",
   "execution_count": 13,
   "id": "35f59c8d",
   "metadata": {},
   "outputs": [
    {
     "name": "stdout",
     "output_type": "stream",
     "text": [
      "                        -ⅈ⋅α         \n",
      "0.306186217847897⋅√6⋅δ⋅ℯ    ⋅sin(2⋅β)\n"
     ]
    }
   ],
   "source": [
    "T_transformed_simplified[3]\n",
    "simplified_T3 = sp.simplify(T_transformed_simplified[3].subs({delta_xx: delta_yy, gamma: 0}))\n",
    "sp.pprint(simplified_T3, use_unicode=True)"
   ]
  },
  {
   "cell_type": "code",
   "execution_count": 14,
   "id": "f4762e3a",
   "metadata": {},
   "outputs": [
    {
     "name": "stdout",
     "output_type": "stream",
     "text": [
      "  ⎛                    2                       ⎞\n",
      "δ⋅⎝1.83711730708738⋅cos (β) - 0.612372435695794⎠\n"
     ]
    }
   ],
   "source": [
    "T_transformed_simplified[3]\n",
    "simplified_T2 = sp.simplify(T_transformed_simplified[2].subs({delta_xx: delta_yy, gamma: 0}))\n",
    "sp.pprint(simplified_T2, use_unicode=True)"
   ]
  },
  {
   "cell_type": "code",
   "execution_count": 15,
   "id": "8f81c784",
   "metadata": {},
   "outputs": [
    {
     "ename": "SyntaxError",
     "evalue": "EOL while scanning string literal (3670495321.py, line 3)",
     "output_type": "error",
     "traceback": [
      "\u001b[0;36m  Cell \u001b[0;32mIn[15], line 3\u001b[0;36m\u001b[0m\n\u001b[0;31m    T'_(-2) = [\u001b[0m\n\u001b[0m               ^\u001b[0m\n\u001b[0;31mSyntaxError\u001b[0m\u001b[0;31m:\u001b[0m EOL while scanning string literal\n"
     ]
    }
   ],
   "source": [
    "def coefficient_2_m2(alpha, beta, gamma, iso, delta_xx, delta_yy, delta):\n",
    "    \"\"\"Calculate the coefficient T_{2,-2} for given Euler angles and tensor coefficients.\"\"\"\n",
    "    T'_(-2) = [\n",
    "    0.125 * (δ_xx − δ_yy) * (cos(β) − 1)^2 * e^{2iα}\n",
    "  + (0.3062 * δ * sin²(β) + 0.125 * (δ_xx − δ_yy) * (cos(β) + 1)^2 * e^{2iγ}) * e^{2iγ}\n",
    "] * e^{-2iγ}\n",
    "    return 0.5 * (delta_xx - delta_yy) * (1 + np.cos(beta))**2 * np.exp(-1j * 2 * alpha)"
   ]
  },
  {
   "cell_type": "code",
   "execution_count": null,
   "id": "8a66ac22",
   "metadata": {},
   "outputs": [],
   "source": [
    "import sympy as sp\n",
    "\n",
    "# Define symbolic variables\n",
    "alpha, beta, gamma = sp.symbols('alpha beta gamma', real=True)\n",
    "delta_xx, delta_yy, delta = sp.symbols('delta_xx delta_yy delta', real=True)\n",
    "i = sp.I\n",
    "\n",
    "# Common expressions\n",
    "cosb = sp.cos(beta)\n",
    "sinb = sp.sin(beta)\n",
    "deltadiff = delta_xx - delta_yy\n",
    "\n",
    "# Define a dictionary of functions for T'_m\n",
    "def T_prime_m(m, alpha, beta, gamma, delta_xx, delta_yy, delta):\n",
    "    cosb = sp.cos(beta)\n",
    "    sinb = sp.sin(beta)\n",
    "    deltadiff = delta_xx - delta_yy\n",
    "\n",
    "    if m == -2:\n",
    "        return (\n",
    "            0.125 * deltadiff * (cosb - 1)**2 * sp.exp(2*i*alpha)\n",
    "            + (sp.sqrt(3/32) * delta * sinb**2 + 0.125 * deltadiff * (cosb + 1)**2 * sp.exp(2*i*gamma)) * sp.exp(2*i*gamma)\n",
    "        ) * sp.exp(-2*i*gamma)\n",
    "\n",
    "    elif m == -1:\n",
    "        return (\n",
    "            0.25 * deltadiff * (cosb - 1) * sp.exp(i*alpha)\n",
    "            + (sp.sqrt(3/8) * delta * cosb - 0.25 * deltadiff * (cosb + 1) * sp.exp(2*i*gamma)) * sp.exp(i*(alpha + 2*gamma))\n",
    "        ) * sp.exp(-2*i*gamma) * sinb\n",
    "\n",
    "    elif m == 0:\n",
    "        return (\n",
    "            0.5 * sp.sqrt(6) * deltadiff * sinb**2\n",
    "            + (4.899 * delta * (1.5 * cosb**2 - 0.5) + 0.5 * sp.sqrt(6) * deltadiff * sinb**2 * sp.exp(2*i*gamma)) * sp.exp(2*i*gamma)\n",
    "        ) * sp.exp(-2*i*gamma) / 4\n",
    "\n",
    "    elif m == 1:\n",
    "        return (\n",
    "            -0.25 * deltadiff * (cosb - 1) * sp.exp(i*alpha)\n",
    "            + (sp.sqrt(3/8) * delta * cosb - 0.25 * deltadiff * (cosb + 1) * sp.exp(2*i*gamma)) * sp.exp(i*(alpha + 2*gamma))\n",
    "        ) * sp.exp(-2*i*(alpha + gamma)) * sinb\n",
    "\n",
    "    elif m == 2:\n",
    "        return (\n",
    "            0.125 * deltadiff * (cosb - 1)**2 * sp.exp(2*i*alpha)\n",
    "            + (sp.sqrt(3/32) * delta * sinb**2 + 0.125 * deltadiff * (cosb + 1)**2 * sp.exp(2*i*gamma)) * sp.exp(2*i*(alpha + gamma))\n",
    "        ) * sp.exp(-2*i*(2*alpha + gamma))\n",
    "\n",
    "    else:\n",
    "        raise ValueError(\"m must be in [-2, -1, 0, 1, 2]\")\n"
   ]
  },
  {
   "cell_type": "code",
   "execution_count": null,
   "id": "a7a010e4",
   "metadata": {},
   "outputs": [
    {
     "name": "stdout",
     "output_type": "stream",
     "text": [
      "(0.5*sqrt(6)*(delta_xx - delta_yy)*sin(beta)**2 + (4.899*delta*(1.5*cos(beta)**2 - 0.5) + 0.5*sqrt(6)*(delta_xx - delta_yy)*exp(2*I*gamma)*sin(beta)**2)*exp(2*I*gamma))*exp(-2*I*gamma)/4\n"
     ]
    }
   ],
   "source": [
    "expr = T_prime_m(0, alpha, beta, gamma, delta_xx, delta_yy, delta)\n",
    "print(expr.simplify())"
   ]
  },
  {
   "cell_type": "code",
   "execution_count": null,
   "id": "39af501c",
   "metadata": {},
   "outputs": [
    {
     "data": {
      "text/latex": [
       "$\\displaystyle 18.6426225096254 - 2.16840434497101 \\cdot 10^{-19} i$"
      ],
      "text/plain": [
       "18.6426225096254 - 2.16840434497101e-19*I"
      ]
     },
     "execution_count": 5,
     "metadata": {},
     "output_type": "execute_result"
    }
   ],
   "source": [
    "expr.subs({\n",
    "    alpha: 0.1,\n",
    "    beta: 0.5,\n",
    "    gamma: 0.2,\n",
    "    delta_xx: 50,\n",
    "    delta_yy: 30,\n",
    "    delta: 20\n",
    "}).evalf()"
   ]
  },
  {
   "cell_type": "code",
   "execution_count": null,
   "id": "b53a7230",
   "metadata": {},
   "outputs": [],
   "source": []
  }
 ],
 "metadata": {
  "kernelspec": {
   "display_name": "nmr_assign",
   "language": "python",
   "name": "python3"
  },
  "language_info": {
   "codemirror_mode": {
    "name": "ipython",
    "version": 3
   },
   "file_extension": ".py",
   "mimetype": "text/x-python",
   "name": "python",
   "nbconvert_exporter": "python",
   "pygments_lexer": "ipython3",
   "version": "3.8.19"
  }
 },
 "nbformat": 4,
 "nbformat_minor": 5
}
