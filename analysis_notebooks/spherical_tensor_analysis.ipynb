{
 "cells": [
  {
   "cell_type": "code",
   "execution_count": 5,
   "id": "884266e1",
   "metadata": {},
   "outputs": [
    {
     "name": "stdout",
     "output_type": "stream",
     "text": [
      "⎡⎛                               2  2⋅ⅈ⋅α   ⎛                        2⋅ⅈ⋅α     ↪\n",
      "⎢⎝0.125⋅(δₓₓ - δ_yy)⋅(cos(β) - 1) ⋅ℯ      + ⎝0.306186217847897⋅√6⋅δ⋅ℯ     ⋅sin ↪\n",
      "⎢                                                                              ↪\n",
      "⎢ ⎛                                ⅈ⋅α   ⎛                        ⅈ⋅α          ↪\n",
      "⎢ ⎝0.25⋅(δₓₓ - δ_yy)⋅(cos(β) - 1)⋅ℯ    + ⎝0.612372435695794⋅√6⋅δ⋅ℯ   ⋅cos(β) - ↪\n",
      "⎢                                                                              ↪\n",
      "⎢           ⎛                       2      ⎛                   ⎛       2       ↪\n",
      "⎢           ⎝0.5⋅√6⋅(δₓₓ - δ_yy)⋅sin (β) + ⎝4.89897948556636⋅δ⋅⎝1.5⋅cos (β) -  ↪\n",
      "⎢           ────────────────────────────────────────────────────────────────── ↪\n",
      "⎢                                                                        4     ↪\n",
      "⎢                                                                              ↪\n",
      "⎢⎛                                  ⅈ⋅α   ⎛                                    ↪\n",
      "⎢⎝- 0.25⋅(δₓₓ - δ_yy)⋅(cos(β) - 1)⋅ℯ    + ⎝0.612372435695794⋅√6⋅δ⋅cos(β) - 0.2 ↪\n",
      "⎢                                                                              ↪\n",
      "⎢⎛                               2  2⋅ⅈ⋅α   ⎛                          2       ↪\n",
      "⎣⎝0.125⋅(δₓₓ - δ_yy)⋅(cos(β) - 1) ⋅ℯ      + ⎝0.306186217847897⋅√6⋅δ⋅sin (β) +  ↪\n",
      "\n",
      "↪ 2                                     2  2⋅ⅈ⋅(α + γ)⎞  2⋅ⅈ⋅γ⎞  -2⋅ⅈ⋅γ ⎤\n",
      "↪  (β) + 0.125⋅(δₓₓ - δ_yy)⋅(cos(β) + 1) ⋅ℯ           ⎠⋅ℯ     ⎠⋅ℯ       ⎥\n",
      "↪                                                                       ⎥\n",
      "↪                                  ⅈ⋅(α + 2⋅γ)⎞  2⋅ⅈ⋅γ⎞  -2⋅ⅈ⋅γ         ⎥\n",
      "↪  0.25⋅(δₓₓ - δ_yy)⋅(cos(β) + 1)⋅ℯ           ⎠⋅ℯ     ⎠⋅ℯ      ⋅sin(β)  ⎥\n",
      "↪                                                                       ⎥\n",
      "↪    ⎞                        2⋅ⅈ⋅γ    2   ⎞  2⋅ⅈ⋅γ⎞  -2⋅ⅈ⋅γ            ⎥\n",
      "↪ 0.5⎠ + 0.5⋅√6⋅(δₓₓ - δ_yy)⋅ℯ     ⋅sin (β)⎠⋅ℯ     ⎠⋅ℯ                  ⎥\n",
      "↪ ──────────────────────────────────────────────────────────            ⎥\n",
      "↪                                                                       ⎥\n",
      "↪                                                                       ⎥\n",
      "↪                              2⋅ⅈ⋅γ⎞  ⅈ⋅(α + 2⋅γ)⎞  -2⋅ⅈ⋅(α + γ)       ⎥\n",
      "↪ 5⋅(δₓₓ - δ_yy)⋅(cos(β) + 1)⋅ℯ     ⎠⋅ℯ           ⎠⋅ℯ            ⋅sin(β)⎥\n",
      "↪                                                                       ⎥\n",
      "↪                                2  2⋅ⅈ⋅γ⎞  2⋅ⅈ⋅(α + γ)⎞  -2⋅ⅈ⋅(2⋅α + γ)⎥\n",
      "↪ 0.125⋅(δₓₓ - δ_yy)⋅(cos(β) + 1) ⋅ℯ     ⎠⋅ℯ           ⎠⋅ℯ              ⎦\n"
     ]
    }
   ],
   "source": [
    "import sympy as sp\n",
    "\n",
    "# Define symbolic variables for Euler angles and tensor coefficients\n",
    "alpha, beta, gamma = sp.symbols('alpha beta gamma', real=True)\n",
    "iso, delta_xx, delta_yy, delta = sp.symbols('iso delta_xx delta_yy delta', real=True)\n",
    "\n",
    "# Define the original coefficients T_{2m}\n",
    "T_2m = {\n",
    "    -2: 0.5 * (delta_xx - delta_yy),\n",
    "    -1: 0,\n",
    "    0: sp.sqrt(3/2) * delta,\n",
    "    1: 0,\n",
    "    2: 0.5 * (delta_xx - delta_yy)\n",
    "}\n",
    "\n",
    "# Reduced Wigner d-matrix elements for l=2\n",
    "d_2 = sp.Matrix([\n",
    "    [0.25 * (1 + sp.cos(beta))**2, 0.5 * sp.sin(beta) * (1 + sp.cos(beta)), sp.sqrt(6)/4 * sp.sin(beta)**2, \n",
    "     0.5 * sp.sin(beta) * (1 - sp.cos(beta)), 0.25 * (1 - sp.cos(beta))**2],\n",
    "    [-0.5 * sp.sin(beta) * (1 + sp.cos(beta)), sp.cos(beta) * (1 + sp.cos(beta)), sp.sqrt(6)/2 * sp.sin(beta) * sp.cos(beta), \n",
    "     sp.cos(beta) * (1 - sp.cos(beta)), -0.5 * sp.sin(beta) * (1 - sp.cos(beta))],\n",
    "    [sp.sqrt(6)/4 * sp.sin(beta)**2, -sp.sqrt(6)/2 * sp.sin(beta) * sp.cos(beta), 0.5 * (3 * sp.cos(beta)**2 - 1), \n",
    "     sp.sqrt(6)/2 * sp.sin(beta) * sp.cos(beta), sp.sqrt(6)/4 * sp.sin(beta)**2],\n",
    "    [-0.5 * sp.sin(beta) * (1 + sp.cos(beta)), -sp.cos(beta) * (1 + sp.cos(beta)), sp.sqrt(6)/2 * sp.sin(beta) * sp.cos(beta), \n",
    "     -sp.cos(beta) * (1 - sp.cos(beta)), 0.5 * sp.sin(beta) * (1 - sp.cos(beta))],\n",
    "    [0.25 * (1 + sp.cos(beta))**2, -0.5 * sp.sin(beta) * (1 + sp.cos(beta)), sp.sqrt(6)/4 * sp.sin(beta)**2, \n",
    "     -0.5 * sp.sin(beta) * (1 - sp.cos(beta)), 0.25 * (1 - sp.cos(beta))**2]\n",
    "])\n",
    "\n",
    "# Construct the full Wigner D-matrix for l=2\n",
    "m_values = [-2, -1, 0, 1, 2]\n",
    "D_2 = sp.zeros(5, 5)\n",
    "for i, m1 in enumerate(m_values):\n",
    "    for j, m2 in enumerate(m_values):\n",
    "        D_2[i, j] = sp.exp(-sp.I * m1 * alpha) * d_2[i, j] * sp.exp(-sp.I * m2 * gamma)\n",
    "\n",
    "# Define the transformation of T_{2m} under the Wigner D-matrix\n",
    "T_transformed = sp.zeros(5, 1)\n",
    "for i, m in enumerate(m_values):\n",
    "    for j, m2 in enumerate(m_values):\n",
    "        T_transformed[i] += D_2[i, j] * T_2m[m2]\n",
    "\n",
    "# Display the transformed tensor coefficients\n",
    "T_transformed_simplified = sp.simplify(T_transformed)\n",
    "sp.pprint(T_transformed_simplified, use_unicode=True)\n"
   ]
  },
  {
   "cell_type": "code",
   "execution_count": 2,
   "id": "95fc4039",
   "metadata": {},
   "outputs": [
    {
     "data": {
      "text/latex": [
       "$\\displaystyle \\left[\\begin{matrix}0.25 \\left(\\cos{\\left(\\beta \\right)} + 1\\right)^{2} & 0.5 \\left(\\cos{\\left(\\beta \\right)} + 1\\right) \\sin{\\left(\\beta \\right)} & \\frac{\\sqrt{6} \\sin^{2}{\\left(\\beta \\right)}}{4} & 0.5 \\left(1 - \\cos{\\left(\\beta \\right)}\\right) \\sin{\\left(\\beta \\right)} & 0.25 \\left(1 - \\cos{\\left(\\beta \\right)}\\right)^{2}\\\\- 0.5 \\left(\\cos{\\left(\\beta \\right)} + 1\\right) \\sin{\\left(\\beta \\right)} & \\left(\\cos{\\left(\\beta \\right)} + 1\\right) \\cos{\\left(\\beta \\right)} & \\frac{\\sqrt{6} \\sin{\\left(\\beta \\right)} \\cos{\\left(\\beta \\right)}}{2} & \\left(1 - \\cos{\\left(\\beta \\right)}\\right) \\cos{\\left(\\beta \\right)} & - 0.5 \\left(1 - \\cos{\\left(\\beta \\right)}\\right) \\sin{\\left(\\beta \\right)}\\\\\\frac{\\sqrt{6} \\sin^{2}{\\left(\\beta \\right)}}{4} & - \\frac{\\sqrt{6} \\sin{\\left(\\beta \\right)} \\cos{\\left(\\beta \\right)}}{2} & 1.5 \\cos^{2}{\\left(\\beta \\right)} - 0.5 & \\frac{\\sqrt{6} \\sin{\\left(\\beta \\right)} \\cos{\\left(\\beta \\right)}}{2} & \\frac{\\sqrt{6} \\sin^{2}{\\left(\\beta \\right)}}{4}\\\\- 0.5 \\left(\\cos{\\left(\\beta \\right)} + 1\\right) \\sin{\\left(\\beta \\right)} & - \\left(\\cos{\\left(\\beta \\right)} + 1\\right) \\cos{\\left(\\beta \\right)} & \\frac{\\sqrt{6} \\sin{\\left(\\beta \\right)} \\cos{\\left(\\beta \\right)}}{2} & - \\left(1 - \\cos{\\left(\\beta \\right)}\\right) \\cos{\\left(\\beta \\right)} & 0.5 \\left(1 - \\cos{\\left(\\beta \\right)}\\right) \\sin{\\left(\\beta \\right)}\\\\0.25 \\left(\\cos{\\left(\\beta \\right)} + 1\\right)^{2} & - 0.5 \\left(\\cos{\\left(\\beta \\right)} + 1\\right) \\sin{\\left(\\beta \\right)} & \\frac{\\sqrt{6} \\sin^{2}{\\left(\\beta \\right)}}{4} & - 0.5 \\left(1 - \\cos{\\left(\\beta \\right)}\\right) \\sin{\\left(\\beta \\right)} & 0.25 \\left(1 - \\cos{\\left(\\beta \\right)}\\right)^{2}\\end{matrix}\\right]$"
      ],
      "text/plain": [
       "Matrix([\n",
       "[       0.25*(cos(beta) + 1)**2,  0.5*(cos(beta) + 1)*sin(beta),        sqrt(6)*sin(beta)**2/4,  0.5*(1 - cos(beta))*sin(beta),        0.25*(1 - cos(beta))**2],\n",
       "[-0.5*(cos(beta) + 1)*sin(beta),      (cos(beta) + 1)*cos(beta), sqrt(6)*sin(beta)*cos(beta)/2,      (1 - cos(beta))*cos(beta), -0.5*(1 - cos(beta))*sin(beta)],\n",
       "[        sqrt(6)*sin(beta)**2/4, -sqrt(6)*sin(beta)*cos(beta)/2,        1.5*cos(beta)**2 - 0.5,  sqrt(6)*sin(beta)*cos(beta)/2,         sqrt(6)*sin(beta)**2/4],\n",
       "[-0.5*(cos(beta) + 1)*sin(beta),     -(cos(beta) + 1)*cos(beta), sqrt(6)*sin(beta)*cos(beta)/2,     -(1 - cos(beta))*cos(beta),  0.5*(1 - cos(beta))*sin(beta)],\n",
       "[       0.25*(cos(beta) + 1)**2, -0.5*(cos(beta) + 1)*sin(beta),        sqrt(6)*sin(beta)**2/4, -0.5*(1 - cos(beta))*sin(beta),        0.25*(1 - cos(beta))**2]])"
      ]
     },
     "execution_count": 2,
     "metadata": {},
     "output_type": "execute_result"
    }
   ],
   "source": [
    "d_2"
   ]
  },
  {
   "cell_type": "code",
   "execution_count": 3,
   "id": "365577b6",
   "metadata": {},
   "outputs": [
    {
     "data": {
      "text/latex": [
       "$\\displaystyle \\left[\\begin{matrix}0.25 \\left(\\cos{\\left(\\beta \\right)} + 1\\right)^{2} e^{2 i \\alpha} e^{2 i \\gamma} & 0.5 \\left(\\cos{\\left(\\beta \\right)} + 1\\right) e^{2 i \\alpha} e^{i \\gamma} \\sin{\\left(\\beta \\right)} & \\frac{\\sqrt{6} e^{2 i \\alpha} \\sin^{2}{\\left(\\beta \\right)}}{4} & 0.5 \\left(1 - \\cos{\\left(\\beta \\right)}\\right) e^{2 i \\alpha} e^{- i \\gamma} \\sin{\\left(\\beta \\right)} & 0.25 \\left(1 - \\cos{\\left(\\beta \\right)}\\right)^{2} e^{2 i \\alpha} e^{- 2 i \\gamma}\\\\- 0.5 \\left(\\cos{\\left(\\beta \\right)} + 1\\right) e^{i \\alpha} e^{2 i \\gamma} \\sin{\\left(\\beta \\right)} & \\left(\\cos{\\left(\\beta \\right)} + 1\\right) e^{i \\alpha} e^{i \\gamma} \\cos{\\left(\\beta \\right)} & \\frac{\\sqrt{6} e^{i \\alpha} \\sin{\\left(\\beta \\right)} \\cos{\\left(\\beta \\right)}}{2} & \\left(1 - \\cos{\\left(\\beta \\right)}\\right) e^{i \\alpha} e^{- i \\gamma} \\cos{\\left(\\beta \\right)} & - 0.5 \\left(1 - \\cos{\\left(\\beta \\right)}\\right) e^{i \\alpha} e^{- 2 i \\gamma} \\sin{\\left(\\beta \\right)}\\\\\\frac{\\sqrt{6} e^{2 i \\gamma} \\sin^{2}{\\left(\\beta \\right)}}{4} & - \\frac{\\sqrt{6} e^{i \\gamma} \\sin{\\left(\\beta \\right)} \\cos{\\left(\\beta \\right)}}{2} & 1.5 \\cos^{2}{\\left(\\beta \\right)} - 0.5 & \\frac{\\sqrt{6} e^{- i \\gamma} \\sin{\\left(\\beta \\right)} \\cos{\\left(\\beta \\right)}}{2} & \\frac{\\sqrt{6} e^{- 2 i \\gamma} \\sin^{2}{\\left(\\beta \\right)}}{4}\\\\- 0.5 \\left(\\cos{\\left(\\beta \\right)} + 1\\right) e^{- i \\alpha} e^{2 i \\gamma} \\sin{\\left(\\beta \\right)} & - \\left(\\cos{\\left(\\beta \\right)} + 1\\right) e^{- i \\alpha} e^{i \\gamma} \\cos{\\left(\\beta \\right)} & \\frac{\\sqrt{6} e^{- i \\alpha} \\sin{\\left(\\beta \\right)} \\cos{\\left(\\beta \\right)}}{2} & - \\left(1 - \\cos{\\left(\\beta \\right)}\\right) e^{- i \\alpha} e^{- i \\gamma} \\cos{\\left(\\beta \\right)} & 0.5 \\left(1 - \\cos{\\left(\\beta \\right)}\\right) e^{- i \\alpha} e^{- 2 i \\gamma} \\sin{\\left(\\beta \\right)}\\\\0.25 \\left(\\cos{\\left(\\beta \\right)} + 1\\right)^{2} e^{- 2 i \\alpha} e^{2 i \\gamma} & - 0.5 \\left(\\cos{\\left(\\beta \\right)} + 1\\right) e^{- 2 i \\alpha} e^{i \\gamma} \\sin{\\left(\\beta \\right)} & \\frac{\\sqrt{6} e^{- 2 i \\alpha} \\sin^{2}{\\left(\\beta \\right)}}{4} & - 0.5 \\left(1 - \\cos{\\left(\\beta \\right)}\\right) e^{- 2 i \\alpha} e^{- i \\gamma} \\sin{\\left(\\beta \\right)} & 0.25 \\left(1 - \\cos{\\left(\\beta \\right)}\\right)^{2} e^{- 2 i \\alpha} e^{- 2 i \\gamma}\\end{matrix}\\right]$"
      ],
      "text/plain": [
       "Matrix([\n",
       "[      0.25*(cos(beta) + 1)**2*exp(2*I*alpha)*exp(2*I*gamma),   0.5*(cos(beta) + 1)*exp(2*I*alpha)*exp(I*gamma)*sin(beta),       sqrt(6)*exp(2*I*alpha)*sin(beta)**2/4,   0.5*(1 - cos(beta))*exp(2*I*alpha)*exp(-I*gamma)*sin(beta),      0.25*(1 - cos(beta))**2*exp(2*I*alpha)*exp(-2*I*gamma)],\n",
       "[ -0.5*(cos(beta) + 1)*exp(I*alpha)*exp(2*I*gamma)*sin(beta),         (cos(beta) + 1)*exp(I*alpha)*exp(I*gamma)*cos(beta),  sqrt(6)*exp(I*alpha)*sin(beta)*cos(beta)/2,         (1 - cos(beta))*exp(I*alpha)*exp(-I*gamma)*cos(beta), -0.5*(1 - cos(beta))*exp(I*alpha)*exp(-2*I*gamma)*sin(beta)],\n",
       "[                      sqrt(6)*exp(2*I*gamma)*sin(beta)**2/4,                 -sqrt(6)*exp(I*gamma)*sin(beta)*cos(beta)/2,                      1.5*cos(beta)**2 - 0.5,                  sqrt(6)*exp(-I*gamma)*sin(beta)*cos(beta)/2,                      sqrt(6)*exp(-2*I*gamma)*sin(beta)**2/4],\n",
       "[-0.5*(cos(beta) + 1)*exp(-I*alpha)*exp(2*I*gamma)*sin(beta),       -(cos(beta) + 1)*exp(-I*alpha)*exp(I*gamma)*cos(beta), sqrt(6)*exp(-I*alpha)*sin(beta)*cos(beta)/2,       -(1 - cos(beta))*exp(-I*alpha)*exp(-I*gamma)*cos(beta), 0.5*(1 - cos(beta))*exp(-I*alpha)*exp(-2*I*gamma)*sin(beta)],\n",
       "[     0.25*(cos(beta) + 1)**2*exp(-2*I*alpha)*exp(2*I*gamma), -0.5*(cos(beta) + 1)*exp(-2*I*alpha)*exp(I*gamma)*sin(beta),      sqrt(6)*exp(-2*I*alpha)*sin(beta)**2/4, -0.5*(1 - cos(beta))*exp(-2*I*alpha)*exp(-I*gamma)*sin(beta),     0.25*(1 - cos(beta))**2*exp(-2*I*alpha)*exp(-2*I*gamma)]])"
      ]
     },
     "execution_count": 3,
     "metadata": {},
     "output_type": "execute_result"
    }
   ],
   "source": [
    "D_2"
   ]
  },
  {
   "cell_type": "code",
   "execution_count": 11,
   "id": "98b93a99",
   "metadata": {},
   "outputs": [
    {
     "name": "stdout",
     "output_type": "stream",
     "text": [
      " ⎛                                ⅈ⋅α   ⎛                                      ↪\n",
      "-⎝0.25⋅(δₓₓ - δ_yy)⋅(cos(β) - 1)⋅ℯ    - ⎝0.612372435695794⋅√6⋅δ⋅cos(β) - 0.25⋅ ↪\n",
      "\n",
      "↪                            2⋅ⅈ⋅γ⎞  ⅈ⋅(α + 2⋅γ)⎞ ⎛                            ↪\n",
      "↪ (δₓₓ - δ_yy)⋅(cos(β) + 1)⋅ℯ     ⎠⋅ℯ           ⎠⋅⎝0.25⋅(δₓₓ - δ_yy)⋅(cos(β) - ↪\n",
      "\n",
      "↪      ⅈ⋅α   ⎛                        ⅈ⋅α                                      ↪\n",
      "↪  1)⋅ℯ    + ⎝0.612372435695794⋅√6⋅δ⋅ℯ   ⋅cos(β) - 0.25⋅(δₓₓ - δ_yy)⋅(cos(β) + ↪\n",
      "\n",
      "↪      ⅈ⋅(α + 2⋅γ)⎞  2⋅ⅈ⋅γ⎞  -2⋅ⅈ⋅(α + 2⋅γ)    2   \n",
      "↪  1)⋅ℯ           ⎠⋅ℯ     ⎠⋅ℯ              ⋅sin (β)\n"
     ]
    }
   ],
   "source": [
    "# calculate the correlation coefficients \n",
    "# multiplication of T_transformed_simplified 2 and 4 is the correlation coefficient\n",
    "correlation_coefficient = T_transformed_simplified[1] * T_transformed_simplified[3]\n",
    "correlation_coefficient_simplified = sp.simplify(correlation_coefficient)\n",
    "sp.pprint(correlation_coefficient_simplified, use_unicode=True)\n"
   ]
  },
  {
   "cell_type": "code",
   "execution_count": 9,
   "id": "150af3e1",
   "metadata": {},
   "outputs": [
    {
     "name": "stdout",
     "output_type": "stream",
     "text": [
      "True\n"
     ]
    }
   ],
   "source": [
    "# test if delta_xx and delta_yy are equal and gamma is zero\n",
    "test_conditions = sp.simplify(sp.Eq(delta_xx, delta_yy) & sp.Eq(gamma, 0))\n",
    "test_conditions_result = test_conditions.subs({delta_xx: 1, delta_yy: 1, gamma: 0})\n",
    "#sp.pprint(test_conditions, use_unicode=True)\n",
    "test_conditions_result_simplified = sp.simplify(test_conditions_result)\n",
    "sp.pprint(test_conditions_result_simplified, use_unicode=True)"
   ]
  },
  {
   "cell_type": "code",
   "execution_count": 14,
   "id": "66a5d870",
   "metadata": {},
   "outputs": [
    {
     "name": "stdout",
     "output_type": "stream",
     "text": [
      "                        ⅈ⋅α         \n",
      "0.306186217847897⋅√6⋅δ⋅ℯ   ⋅sin(2⋅β)\n"
     ]
    }
   ],
   "source": [
    "T_transformed_simplified[1]\n",
    "# simplify T_transformed_simplified[1] with delata_xx = delta_yy and gamma = 0\n",
    "simplified_T1 = sp.simplify(T_transformed_simplified[1].subs({delta_xx: delta_yy, gamma: 0}))\n",
    "sp.pprint(simplified_T1, use_unicode=True)"
   ]
  },
  {
   "cell_type": "code",
   "execution_count": 15,
   "id": "35f59c8d",
   "metadata": {},
   "outputs": [
    {
     "name": "stdout",
     "output_type": "stream",
     "text": [
      "                        -ⅈ⋅α         \n",
      "0.306186217847897⋅√6⋅δ⋅ℯ    ⋅sin(2⋅β)\n"
     ]
    }
   ],
   "source": [
    "T_transformed_simplified[3]\n",
    "simplified_T3 = sp.simplify(T_transformed_simplified[3].subs({delta_xx: delta_yy, gamma: 0}))\n",
    "sp.pprint(simplified_T3, use_unicode=True)"
   ]
  },
  {
   "cell_type": "code",
   "execution_count": 16,
   "id": "f4762e3a",
   "metadata": {},
   "outputs": [
    {
     "name": "stdout",
     "output_type": "stream",
     "text": [
      "  ⎛                    2                       ⎞\n",
      "δ⋅⎝1.83711730708738⋅cos (β) - 0.612372435695794⎠\n"
     ]
    }
   ],
   "source": [
    "T_transformed_simplified[3]\n",
    "simplified_T2 = sp.simplify(T_transformed_simplified[2].subs({delta_xx: delta_yy, gamma: 0}))\n",
    "sp.pprint(simplified_T2, use_unicode=True)"
   ]
  }
 ],
 "metadata": {
  "kernelspec": {
   "display_name": "nmr_assign",
   "language": "python",
   "name": "nmr_assign"
  },
  "language_info": {
   "codemirror_mode": {
    "name": "ipython",
    "version": 3
   },
   "file_extension": ".py",
   "mimetype": "text/x-python",
   "name": "python",
   "nbconvert_exporter": "python",
   "pygments_lexer": "ipython3",
   "version": "3.8.19"
  }
 },
 "nbformat": 4,
 "nbformat_minor": 5
}
