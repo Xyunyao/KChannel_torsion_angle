{
 "cells": [
  {
   "cell_type": "code",
   "execution_count": 9,
   "metadata": {},
   "outputs": [
    {
     "name": "stdout",
     "output_type": "stream",
     "text": [
      "[]\n",
      "(0,)\n"
     ]
    }
   ],
   "source": [
    "from schrodinger.application.desmond.packages import traj_util, traj, topo\n",
    "#from schrodinger.application.desmond.packages import traj_util, traj, topo\n",
    "import numpy as np\n",
    "import pandas as pd\n",
    "\n",
    "import os\n",
    "cms_path = os.path.expanduser('~/Dropbox/KcsA/kcsa_5000ns_1218/kcsa_deactivated_5us_centered-out.cms')\n",
    "traj_path = os.path.expanduser('~/Dropbox/KcsA/kcsa_5000ns_1218/kcsa_deactivated_5us_centered_trj')\n",
    "\n",
    "# Load structure and trajectory (paths to your .cms and .trj files)\n",
    "_, cms_model = topo.read_cms(cms_path)\n",
    "trajectory = traj.read_traj(traj_path)\n",
    "\n",
    "# Select backbone atoms: carbonyl carbon (C), oxygen (O), and amide nitrogen (N)\n",
    "c_aids = cms_model.select_atom(\"chain.name A and res.num 21 and atom.name C\")\n",
    "o_aids = cms_model.select_atom(\"chain.name A and res.num 76 and atom.name O\")\n",
    "n_aids = cms_model.select_atom(\"chain.name A and res.num 76 and atom.name N\")\n",
    "\n",
    "print(c_aids)\n",
    "\n",
    "# Map atom IDs to global IDs for trajectory processing\n",
    "gid_C_list = topo.aids2gids(cms_model, c_aids)\n",
    "gid_O_list = topo.aids2gids(cms_model, o_aids)\n",
    "gid_N_list = topo.aids2gids(cms_model, n_aids)\n",
    "\n",
    "# Ensure the lists are of equal length (one-to-one correspondence)\n",
    "assert len(gid_C_list) == len(gid_O_list) == len(gid_N_list), \"Mismatch in atom selections.\"\n",
    "\n",
    "# Initialize lists to accumulate orientation vectors over time\n",
    "sigma_33_list, sigma_22_list, sigma_11_list = [], [], []\n",
    "\n",
    "# # Loop through trajectory frames\n",
    "# for frame in trajectory:\n",
    "#     # Process each residue (assume one-to-one correspondence of C, O, N per residue)\n",
    "#     for gid_C, gid_O, gid_N in zip(gid_C_list, gid_O_list, gid_N_list):\n",
    "#         # Extract atomic positions\n",
    "#         C = frame.pos(gid_C)[0]\n",
    "#         O = frame.pos(gid_O)[0]\n",
    "#         N = frame.pos(gid_N)[0]\n",
    "        \n",
    "#         # Build local molecular frame\n",
    "#         vec_CO = O - C\n",
    "#         sigma_22 = vec_CO / np.linalg.norm(vec_CO)  # Along CO bond\n",
    "\n",
    "#         # Normal vector to peptide plane (C', O, N)\n",
    "#         vec_CN = N - C\n",
    "#         sigma_33 = np.cross(vec_CO, vec_CN)  # Perpendicular to peptide plane\n",
    "#         sigma_33 /= np.linalg.norm(sigma_33)\n",
    "\n",
    "#         # Orthogonal axis\n",
    "#         sigma_11 = np.cross(sigma_33, sigma_22)  # Orthogonal to sigma_33 and sigma_22\n",
    "#         sigma_11 /= np.linalg.norm(sigma_11)\n",
    "\n",
    "#         # Append to orientation lists\n",
    "#         sigma_33_list.append(sigma_33)\n",
    "#         sigma_22_list.append(sigma_22)\n",
    "#         sigma_11_list.append(sigma_11)\n",
    "\n",
    "# # Post-processing: Save or analyze the accumulated orientation data\n",
    "# sigma_33_array = np.array(sigma_33_list)\n",
    "# sigma_22_array = np.array(sigma_22_list)\n",
    "# sigma_11_array = np.array(sigma_11_list)\n",
    "\n",
    "print(sigma_33_array.shape)\n",
    "\n",
    "\n",
    "\n",
    "frame_times = np.array([fr.time for fr in trajectory])  # Extract time for each frame in the trajectory\n",
    "\n",
    "# # Create a DataFrame\n",
    "# df = pd.DataFrame({\n",
    "#     'Frame': np.arange(len(frame_times)),  # Frame indices\n",
    "#     'Time (ps)': frame_times,             # Trajectory time\n",
    "#     'Sigma_33_X': sigma_33_array[:,0],   # X-component of Sigma_33\n",
    "#     'Sigma_33_Y': sigma_33_array[1],   # Y-component of Sigma_33\n",
    "#     'Sigma_33_Z': sigma_33_array[2],   # Z-component of Sigma_33\n",
    "#     'Sigma_22_X': sigma_22_array[0],   # X-component of Sigma_22\n",
    "#     'Sigma_22_Y': sigma_22_array[1],   # Y-component of Sigma_22\n",
    "#     'Sigma_22_Z': sigma_22_array[2],   # Z-component of Sigma_22\n",
    "#     'Sigma_11_X': sigma_11_array[0],   # X-component of Sigma_11\n",
    "#     'Sigma_11_Y': sigma_11_array[1],   # Y-component of Sigma_11\n",
    "#     'Sigma_11_Z': sigma_11_array[2],   # Z-component of Sigma_11\n",
    "# })\n",
    "\n",
    "# # Save the DataFrame to an Excel file\n",
    "# output_file = \"orientation_vectors.xlsx\"\n",
    "# df.to_excel(output_file, index=False)\n",
    "\n",
    "# print(f\"Orientation data saved to {output_file}\")\n",
    "\n",
    "\n"
   ]
  },
  {
   "cell_type": "code",
   "execution_count": 38,
   "metadata": {},
   "outputs": [
    {
     "name": "stdout",
     "output_type": "stream",
     "text": [
      "N768\n",
      "C769\n",
      "C770\n",
      "O771\n",
      "\n",
      "\n",
      "\n",
      "\n",
      "\n",
      "\n",
      "\n",
      "\n"
     ]
    }
   ],
   "source": [
    "test=cms_model.select_atom('chain.name A and res.num 1')\n",
    "for i in test:\n",
    "    print(cms_model.atom[i].name)\n",
    "#len(cms_model.chain['A'].residue)"
   ]
  },
  {
   "cell_type": "code",
   "execution_count": 23,
   "metadata": {},
   "outputs": [
    {
     "data": {
      "text/plain": [
       "<schrodinger.structure._structure.StructureAtom at 0x166242f30>"
      ]
     },
     "execution_count": 23,
     "metadata": {},
     "output_type": "execute_result"
    }
   ],
   "source": [
    "cms_model.atom[1156]"
   ]
  },
  {
   "cell_type": "code",
   "execution_count": 2,
   "metadata": {},
   "outputs": [
    {
     "name": "stdout",
     "output_type": "stream",
     "text": [
      "2\n"
     ]
    }
   ],
   "source": [
    "import numpy as np\n",
    "\n",
    "# Example: use u_z_list from above to build A(t)\n",
    "u_z_arr = np.array(u_z_list)            # shape (Nframes,3)\n",
    "cos2 = u_z_arr[:,2]**2                 # z-component squared\n",
    "A = (3*cos2 - 1) * (Delta_sigma) / 2.0  # CSA interaction sequence\n",
    "\n",
    "# Autocorrelation (unnormalized, one-sided)\n",
    "N = len(A)\n",
    "A_mean = np.mean(A)\n",
    "acf = np.array([np.mean((A[:N-k]-A_mean)*(A[k:]-A_mean)) for k in range(N)])\n"
   ]
  },
  {
   "cell_type": "code",
   "execution_count": null,
   "metadata": {},
   "outputs": [],
   "source": []
  }
 ],
 "metadata": {
  "kernelspec": {
   "display_name": "Python 3",
   "language": "python",
   "name": "python3"
  },
  "language_info": {
   "codemirror_mode": {
    "name": "ipython",
    "version": 3
   },
   "file_extension": ".py",
   "mimetype": "text/x-python",
   "name": "python",
   "nbconvert_exporter": "python",
   "pygments_lexer": "ipython3",
   "version": "3.11.4"
  }
 },
 "nbformat": 4,
 "nbformat_minor": 4
}
