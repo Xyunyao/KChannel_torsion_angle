{
 "cells": [
  {
   "cell_type": "code",
   "execution_count": 1,
   "id": "884266e1",
   "metadata": {},
   "outputs": [],
   "source": [
    "import sympy as sp\n",
    "\n",
    "# Define symbolic variables for Euler angles and tensor coefficients\n",
    "alpha, beta, gamma = sp.symbols('alpha beta gamma', real=True)\n",
    "iso, delta_xx, delta_yy, delta = sp.symbols('iso delta_xx delta_yy delta', real=True)\n",
    "\n",
    "# Define the original coefficients T_{2m}\n",
    "T_2m = {\n",
    "    -2: 0.5 * (delta_xx - delta_yy),\n",
    "    -1: 0,\n",
    "    0: sp.sqrt(3/2) * delta,\n",
    "    1: 0,\n",
    "    2: 0.5 * (delta_xx - delta_yy)\n",
    "}\n",
    "\n",
    "# Reduced Wigner d-matrix elements for l=2\n",
    "d_2 = sp.Matrix([\n",
    "    [0.25 * (1 + sp.cos(beta))**2, 0.5 * sp.sin(beta) * (1 + sp.cos(beta)), sp.sqrt(6)/4 * sp.sin(beta)**2, \n",
    "     0.5 * sp.sin(beta) * (1 - sp.cos(beta)), 0.25 * (1 - sp.cos(beta))**2],\n",
    "    [-0.5 * sp.sin(beta) * (1 + sp.cos(beta)), sp.cos(beta) * (1 + sp.cos(beta)), sp.sqrt(6)/2 * sp.sin(beta) * sp.cos(beta), \n",
    "     sp.cos(beta) * (1 - sp.cos(beta)), -0.5 * sp.sin(beta) * (1 - sp.cos(beta))],\n",
    "    [sp.sqrt(6)/4 * sp.sin(beta)**2, -sp.sqrt(6)/2 * sp.sin(beta) * sp.cos(beta), 0.5 * (3 * sp.cos(beta)**2 - 1), \n",
    "     sp.sqrt(6)/2 * sp.sin(beta) * sp.cos(beta), sp.sqrt(6)/4 * sp.sin(beta)**2],\n",
    "    [-0.5 * sp.sin(beta) * (1 + sp.cos(beta)), -sp.cos(beta) * (1 + sp.cos(beta)), sp.sqrt(6)/2 * sp.sin(beta) * sp.cos(beta), \n",
    "     -sp.cos(beta) * (1 - sp.cos(beta)), 0.5 * sp.sin(beta) * (1 - sp.cos(beta))],\n",
    "    [0.25 * (1 + sp.cos(beta))**2, -0.5 * sp.sin(beta) * (1 + sp.cos(beta)), sp.sqrt(6)/4 * sp.sin(beta)**2, \n",
    "     -0.5 * sp.sin(beta) * (1 - sp.cos(beta)), 0.25 * (1 - sp.cos(beta))**2]\n",
    "])\n",
    "\n",
    "# Construct the full Wigner D-matrix for l=2\n",
    "m_values = [-2, -1, 0, 1, 2]\n",
    "D_2 = sp.zeros(5, 5)\n",
    "for i, m1 in enumerate(m_values):\n",
    "    for j, m2 in enumerate(m_values):\n",
    "        D_2[i, j] = sp.exp(-sp.I * m1 * alpha) * d_2[i, j] * sp.exp(-sp.I * m2 * gamma)\n",
    "\n",
    "# Compute the transformed coefficients T'_{2m}\n",
    "T_2m_prime = sp.Matrix([0, 0, 0, 0, 0])  # Initialize\n",
    "for i, m in enumerate(m_values):\n",
    "    T_2m_prime[i] = sum(D_2[i, j] * T_2m[m_values[j]] for j in range(5))\n",
    "\n",
    "# Simplify the resulting coefficients\n",
    "T_2m_prime = T_2m_prime.simplify()\n",
    "T_2m_prime\n"
   ]
  },
  {
   "cell_type": "code",
   "execution_count": 3,
   "id": "b780bdc5",
   "metadata": {},
   "outputs": [],
   "source": [
    "T_2m_prime"
   ]
  },
  {
   "cell_type": "code",
   "execution_count": null,
   "id": "95fc4039",
   "metadata": {},
   "outputs": [],
   "source": []
  }
 ],
 "metadata": {
  "kernelspec": {
   "display_name": "nmr_assign",
   "language": "python",
   "name": "nmr_assign"
  },
  "language_info": {
   "codemirror_mode": {
    "name": "ipython",
    "version": 3
   },
   "file_extension": ".py",
   "mimetype": "text/x-python",
   "name": "python",
   "nbconvert_exporter": "python",
   "pygments_lexer": "ipython3",
   "version": "3.8.19"
  }
 },
 "nbformat": 4,
 "nbformat_minor": 5
}
